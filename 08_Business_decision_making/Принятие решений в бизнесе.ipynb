{
 "cells": [
  {
   "cell_type": "markdown",
   "id": "fdfba4e9",
   "metadata": {},
   "source": [
    "## Введение\n",
    "В этом проекте вместе с отделом маркетинга мы подготовили список гипотез для увеличения выручки.\n",
    "Приоритизируем гипотезы, запустим A/B-тест и проанализируем результаты."
   ]
  },
  {
   "cell_type": "code",
   "execution_count": 1,
   "id": "7b09748f",
   "metadata": {},
   "outputs": [],
   "source": [
    "# Импорт библиотек\n",
    "\n",
    "import os\n",
    "import pandas as pd\n",
    "import numpy as np\n",
    "import datetime as dt\n",
    "from matplotlib import pyplot as plt\n",
    "from termcolor import colored\n",
    "import seaborn as sns\n",
    "from scipy import stats as st\n",
    "import math as mth\n",
    "\n",
    "\n",
    "# Чтобы мы могли нормально видеть наши гипотезы, установим:\n",
    "pd.set_option('max_colwidth', 120)"
   ]
  },
  {
   "cell_type": "code",
   "execution_count": 2,
   "id": "acd3e639",
   "metadata": {},
   "outputs": [],
   "source": [
    "# Моя собственная функция для первичного анализа загружаемых таблиц\n",
    "\n",
    "def base_info(df):\n",
    "    \n",
    "   # df.columns = [col.lower().replace(' ','_').replace('-','_') for col in df.columns]\n",
    "   # В этот раз не буду автоматически переименовывать столбцы\n",
    "    \n",
    "    print(colored(\"Общая информация о таблице:\", \"blue\", attrs=['bold']))\n",
    "    print()\n",
    "    print(df.info())\n",
    "    print()\n",
    "    print(colored(\"Циферки:\", \"blue\", attrs=['bold']))\n",
    "    display(df.describe().T)\n",
    "    print()\n",
    "    print(colored(\"Количество явных дубликатов: \", \"blue\", attrs=['bold']), df.duplicated().sum())\n",
    "    print()\n",
    "    print(colored(\"Первые строки таблицы:\", \"blue\", attrs=['bold']))\n",
    "    display(df.head(10))\n",
    "    print(colored(\"Доли отсутствующих значений\", \"blue\", attrs=['bold']))\n",
    "    print(round(df.isna().mean() * 100, 2))"
   ]
  },
  {
   "cell_type": "code",
   "execution_count": 3,
   "id": "03251aa7",
   "metadata": {},
   "outputs": [],
   "source": [
    "# если работаем на ЯП\n",
    "pth11 = '/datasets/hypothesis.csv' \n",
    "pth12 = '/datasets/orders.csv' \n",
    "pth13 = '/datasets/visitors.csv' \n",
    "\n",
    "# если работаем локально\n",
    "pth21 = 'hypothesis.csv' \n",
    "pth22 = 'orders.csv' \n",
    "pth23 = 'visitors.csv'\n",
    "\n",
    "\n",
    "if os.path.exists(pth11):\n",
    "    hypothesis = pd.read_csv(pth11)\n",
    "    orders = pd.read_csv(pth12)\n",
    "    visitors = pd.read_csv(pth13)\n",
    "    \n",
    "elif os.path.exists(pth21):\n",
    "    hypothesis = pd.read_csv(pth21)\n",
    "    orders = pd.read_csv(pth22)\n",
    "    visitors = pd.read_csv(pth23)\n",
    "else:\n",
    "    print('Что-то поломалось :(')  "
   ]
  },
  {
   "cell_type": "markdown",
   "id": "9ef37007",
   "metadata": {},
   "source": [
    "## Часть 1. Приоритезация гипотез"
   ]
  },
  {
   "cell_type": "markdown",
   "id": "25fb4c01",
   "metadata": {},
   "source": [
    "Посмотрим, что у нас в таблице с гипотезами:"
   ]
  },
  {
   "cell_type": "code",
   "execution_count": 4,
   "id": "ac5b7d79",
   "metadata": {},
   "outputs": [
    {
     "name": "stdout",
     "output_type": "stream",
     "text": [
      "\u001b[1m\u001b[34mОбщая информация о таблице:\u001b[0m\n",
      "\n",
      "<class 'pandas.core.frame.DataFrame'>\n",
      "RangeIndex: 9 entries, 0 to 8\n",
      "Data columns (total 5 columns):\n",
      " #   Column      Non-Null Count  Dtype \n",
      "---  ------      --------------  ----- \n",
      " 0   Hypothesis  9 non-null      object\n",
      " 1   Reach       9 non-null      int64 \n",
      " 2   Impact      9 non-null      int64 \n",
      " 3   Confidence  9 non-null      int64 \n",
      " 4   Efforts     9 non-null      int64 \n",
      "dtypes: int64(4), object(1)\n",
      "memory usage: 488.0+ bytes\n",
      "None\n",
      "\n",
      "\u001b[1m\u001b[34mЦиферки:\u001b[0m\n"
     ]
    },
    {
     "data": {
      "text/html": [
       "<div>\n",
       "<style scoped>\n",
       "    .dataframe tbody tr th:only-of-type {\n",
       "        vertical-align: middle;\n",
       "    }\n",
       "\n",
       "    .dataframe tbody tr th {\n",
       "        vertical-align: top;\n",
       "    }\n",
       "\n",
       "    .dataframe thead th {\n",
       "        text-align: right;\n",
       "    }\n",
       "</style>\n",
       "<table border=\"1\" class=\"dataframe\">\n",
       "  <thead>\n",
       "    <tr style=\"text-align: right;\">\n",
       "      <th></th>\n",
       "      <th>count</th>\n",
       "      <th>mean</th>\n",
       "      <th>std</th>\n",
       "      <th>min</th>\n",
       "      <th>25%</th>\n",
       "      <th>50%</th>\n",
       "      <th>75%</th>\n",
       "      <th>max</th>\n",
       "    </tr>\n",
       "  </thead>\n",
       "  <tbody>\n",
       "    <tr>\n",
       "      <th>Reach</th>\n",
       "      <td>9.0</td>\n",
       "      <td>4.777778</td>\n",
       "      <td>3.153481</td>\n",
       "      <td>1.0</td>\n",
       "      <td>3.0</td>\n",
       "      <td>3.0</td>\n",
       "      <td>8.0</td>\n",
       "      <td>10.0</td>\n",
       "    </tr>\n",
       "    <tr>\n",
       "      <th>Impact</th>\n",
       "      <td>9.0</td>\n",
       "      <td>4.777778</td>\n",
       "      <td>3.192874</td>\n",
       "      <td>1.0</td>\n",
       "      <td>3.0</td>\n",
       "      <td>3.0</td>\n",
       "      <td>7.0</td>\n",
       "      <td>10.0</td>\n",
       "    </tr>\n",
       "    <tr>\n",
       "      <th>Confidence</th>\n",
       "      <td>9.0</td>\n",
       "      <td>5.555556</td>\n",
       "      <td>3.045944</td>\n",
       "      <td>1.0</td>\n",
       "      <td>3.0</td>\n",
       "      <td>7.0</td>\n",
       "      <td>8.0</td>\n",
       "      <td>9.0</td>\n",
       "    </tr>\n",
       "    <tr>\n",
       "      <th>Efforts</th>\n",
       "      <td>9.0</td>\n",
       "      <td>4.888889</td>\n",
       "      <td>2.803767</td>\n",
       "      <td>1.0</td>\n",
       "      <td>3.0</td>\n",
       "      <td>5.0</td>\n",
       "      <td>6.0</td>\n",
       "      <td>10.0</td>\n",
       "    </tr>\n",
       "  </tbody>\n",
       "</table>\n",
       "</div>"
      ],
      "text/plain": [
       "            count      mean       std  min  25%  50%  75%   max\n",
       "Reach         9.0  4.777778  3.153481  1.0  3.0  3.0  8.0  10.0\n",
       "Impact        9.0  4.777778  3.192874  1.0  3.0  3.0  7.0  10.0\n",
       "Confidence    9.0  5.555556  3.045944  1.0  3.0  7.0  8.0   9.0\n",
       "Efforts       9.0  4.888889  2.803767  1.0  3.0  5.0  6.0  10.0"
      ]
     },
     "metadata": {},
     "output_type": "display_data"
    },
    {
     "name": "stdout",
     "output_type": "stream",
     "text": [
      "\n",
      "\u001b[1m\u001b[34mКоличество явных дубликатов: \u001b[0m 0\n",
      "\n",
      "\u001b[1m\u001b[34mПервые строки таблицы:\u001b[0m\n"
     ]
    },
    {
     "data": {
      "text/html": [
       "<div>\n",
       "<style scoped>\n",
       "    .dataframe tbody tr th:only-of-type {\n",
       "        vertical-align: middle;\n",
       "    }\n",
       "\n",
       "    .dataframe tbody tr th {\n",
       "        vertical-align: top;\n",
       "    }\n",
       "\n",
       "    .dataframe thead th {\n",
       "        text-align: right;\n",
       "    }\n",
       "</style>\n",
       "<table border=\"1\" class=\"dataframe\">\n",
       "  <thead>\n",
       "    <tr style=\"text-align: right;\">\n",
       "      <th></th>\n",
       "      <th>Hypothesis</th>\n",
       "      <th>Reach</th>\n",
       "      <th>Impact</th>\n",
       "      <th>Confidence</th>\n",
       "      <th>Efforts</th>\n",
       "    </tr>\n",
       "  </thead>\n",
       "  <tbody>\n",
       "    <tr>\n",
       "      <th>0</th>\n",
       "      <td>Добавить два новых канала привлечения трафика, что позволит привлекать на 30% больше пользователей</td>\n",
       "      <td>3</td>\n",
       "      <td>10</td>\n",
       "      <td>8</td>\n",
       "      <td>6</td>\n",
       "    </tr>\n",
       "    <tr>\n",
       "      <th>1</th>\n",
       "      <td>Запустить собственную службу доставки, что сократит срок доставки заказов</td>\n",
       "      <td>2</td>\n",
       "      <td>5</td>\n",
       "      <td>4</td>\n",
       "      <td>10</td>\n",
       "    </tr>\n",
       "    <tr>\n",
       "      <th>2</th>\n",
       "      <td>Добавить блоки рекомендаций товаров на сайт интернет магазина, чтобы повысить конверсию и средний чек заказа</td>\n",
       "      <td>8</td>\n",
       "      <td>3</td>\n",
       "      <td>7</td>\n",
       "      <td>3</td>\n",
       "    </tr>\n",
       "    <tr>\n",
       "      <th>3</th>\n",
       "      <td>Изменить структура категорий, что увеличит конверсию, т.к. пользователи быстрее найдут нужный товар</td>\n",
       "      <td>8</td>\n",
       "      <td>3</td>\n",
       "      <td>3</td>\n",
       "      <td>8</td>\n",
       "    </tr>\n",
       "    <tr>\n",
       "      <th>4</th>\n",
       "      <td>Изменить цвет фона главной страницы, чтобы увеличить вовлеченность пользователей</td>\n",
       "      <td>3</td>\n",
       "      <td>1</td>\n",
       "      <td>1</td>\n",
       "      <td>1</td>\n",
       "    </tr>\n",
       "    <tr>\n",
       "      <th>5</th>\n",
       "      <td>Добавить страницу отзывов клиентов о магазине, что позволит увеличить количество заказов</td>\n",
       "      <td>3</td>\n",
       "      <td>2</td>\n",
       "      <td>2</td>\n",
       "      <td>3</td>\n",
       "    </tr>\n",
       "    <tr>\n",
       "      <th>6</th>\n",
       "      <td>Показать на главной странице баннеры с актуальными акциями и распродажами, чтобы увеличить конверсию</td>\n",
       "      <td>5</td>\n",
       "      <td>3</td>\n",
       "      <td>8</td>\n",
       "      <td>3</td>\n",
       "    </tr>\n",
       "    <tr>\n",
       "      <th>7</th>\n",
       "      <td>Добавить форму подписки на все основные страницы, чтобы собрать базу клиентов для email-рассылок</td>\n",
       "      <td>10</td>\n",
       "      <td>7</td>\n",
       "      <td>8</td>\n",
       "      <td>5</td>\n",
       "    </tr>\n",
       "    <tr>\n",
       "      <th>8</th>\n",
       "      <td>Запустить акцию, дающую скидку на товар в день рождения</td>\n",
       "      <td>1</td>\n",
       "      <td>9</td>\n",
       "      <td>9</td>\n",
       "      <td>5</td>\n",
       "    </tr>\n",
       "  </tbody>\n",
       "</table>\n",
       "</div>"
      ],
      "text/plain": [
       "                                                                                                     Hypothesis  \\\n",
       "0            Добавить два новых канала привлечения трафика, что позволит привлекать на 30% больше пользователей   \n",
       "1                                     Запустить собственную службу доставки, что сократит срок доставки заказов   \n",
       "2  Добавить блоки рекомендаций товаров на сайт интернет магазина, чтобы повысить конверсию и средний чек заказа   \n",
       "3           Изменить структура категорий, что увеличит конверсию, т.к. пользователи быстрее найдут нужный товар   \n",
       "4                              Изменить цвет фона главной страницы, чтобы увеличить вовлеченность пользователей   \n",
       "5                      Добавить страницу отзывов клиентов о магазине, что позволит увеличить количество заказов   \n",
       "6          Показать на главной странице баннеры с актуальными акциями и распродажами, чтобы увеличить конверсию   \n",
       "7              Добавить форму подписки на все основные страницы, чтобы собрать базу клиентов для email-рассылок   \n",
       "8                                                       Запустить акцию, дающую скидку на товар в день рождения   \n",
       "\n",
       "   Reach  Impact  Confidence  Efforts  \n",
       "0      3      10           8        6  \n",
       "1      2       5           4       10  \n",
       "2      8       3           7        3  \n",
       "3      8       3           3        8  \n",
       "4      3       1           1        1  \n",
       "5      3       2           2        3  \n",
       "6      5       3           8        3  \n",
       "7     10       7           8        5  \n",
       "8      1       9           9        5  "
      ]
     },
     "metadata": {},
     "output_type": "display_data"
    },
    {
     "name": "stdout",
     "output_type": "stream",
     "text": [
      "\u001b[1m\u001b[34mДоли отсутствующих значений\u001b[0m\n",
      "Hypothesis    0.0\n",
      "Reach         0.0\n",
      "Impact        0.0\n",
      "Confidence    0.0\n",
      "Efforts       0.0\n",
      "dtype: float64\n"
     ]
    }
   ],
   "source": [
    "base_info(hypothesis)"
   ]
  },
  {
   "cell_type": "markdown",
   "id": "7ae40160",
   "metadata": {},
   "source": [
    "### Фреймворк ICE\n",
    "\n",
    "$$ICE = \\frac{Impact * Confidence}{Efforts}$$\n",
    "\n",
    "Применим фреймворк ICE для приоритизации гипотез. \n",
    "Отсортируем их по убыванию приоритета."
   ]
  },
  {
   "cell_type": "code",
   "execution_count": 5,
   "id": "cb19294e",
   "metadata": {},
   "outputs": [
    {
     "data": {
      "text/html": [
       "<div>\n",
       "<style scoped>\n",
       "    .dataframe tbody tr th:only-of-type {\n",
       "        vertical-align: middle;\n",
       "    }\n",
       "\n",
       "    .dataframe tbody tr th {\n",
       "        vertical-align: top;\n",
       "    }\n",
       "\n",
       "    .dataframe thead th {\n",
       "        text-align: right;\n",
       "    }\n",
       "</style>\n",
       "<table border=\"1\" class=\"dataframe\">\n",
       "  <thead>\n",
       "    <tr style=\"text-align: right;\">\n",
       "      <th></th>\n",
       "      <th>Hypothesis</th>\n",
       "      <th>ICE</th>\n",
       "    </tr>\n",
       "  </thead>\n",
       "  <tbody>\n",
       "    <tr>\n",
       "      <th>8</th>\n",
       "      <td>Запустить акцию, дающую скидку на товар в день рождения</td>\n",
       "      <td>16.2</td>\n",
       "    </tr>\n",
       "    <tr>\n",
       "      <th>0</th>\n",
       "      <td>Добавить два новых канала привлечения трафика, что позволит привлекать на 30% больше пользователей</td>\n",
       "      <td>13.3</td>\n",
       "    </tr>\n",
       "    <tr>\n",
       "      <th>7</th>\n",
       "      <td>Добавить форму подписки на все основные страницы, чтобы собрать базу клиентов для email-рассылок</td>\n",
       "      <td>11.2</td>\n",
       "    </tr>\n",
       "    <tr>\n",
       "      <th>6</th>\n",
       "      <td>Показать на главной странице баннеры с актуальными акциями и распродажами, чтобы увеличить конверсию</td>\n",
       "      <td>8.0</td>\n",
       "    </tr>\n",
       "    <tr>\n",
       "      <th>2</th>\n",
       "      <td>Добавить блоки рекомендаций товаров на сайт интернет магазина, чтобы повысить конверсию и средний чек заказа</td>\n",
       "      <td>7.0</td>\n",
       "    </tr>\n",
       "    <tr>\n",
       "      <th>1</th>\n",
       "      <td>Запустить собственную службу доставки, что сократит срок доставки заказов</td>\n",
       "      <td>2.0</td>\n",
       "    </tr>\n",
       "    <tr>\n",
       "      <th>5</th>\n",
       "      <td>Добавить страницу отзывов клиентов о магазине, что позволит увеличить количество заказов</td>\n",
       "      <td>1.3</td>\n",
       "    </tr>\n",
       "    <tr>\n",
       "      <th>3</th>\n",
       "      <td>Изменить структура категорий, что увеличит конверсию, т.к. пользователи быстрее найдут нужный товар</td>\n",
       "      <td>1.1</td>\n",
       "    </tr>\n",
       "    <tr>\n",
       "      <th>4</th>\n",
       "      <td>Изменить цвет фона главной страницы, чтобы увеличить вовлеченность пользователей</td>\n",
       "      <td>1.0</td>\n",
       "    </tr>\n",
       "  </tbody>\n",
       "</table>\n",
       "</div>"
      ],
      "text/plain": [
       "                                                                                                     Hypothesis  \\\n",
       "8                                                       Запустить акцию, дающую скидку на товар в день рождения   \n",
       "0            Добавить два новых канала привлечения трафика, что позволит привлекать на 30% больше пользователей   \n",
       "7              Добавить форму подписки на все основные страницы, чтобы собрать базу клиентов для email-рассылок   \n",
       "6          Показать на главной странице баннеры с актуальными акциями и распродажами, чтобы увеличить конверсию   \n",
       "2  Добавить блоки рекомендаций товаров на сайт интернет магазина, чтобы повысить конверсию и средний чек заказа   \n",
       "1                                     Запустить собственную службу доставки, что сократит срок доставки заказов   \n",
       "5                      Добавить страницу отзывов клиентов о магазине, что позволит увеличить количество заказов   \n",
       "3           Изменить структура категорий, что увеличит конверсию, т.к. пользователи быстрее найдут нужный товар   \n",
       "4                              Изменить цвет фона главной страницы, чтобы увеличить вовлеченность пользователей   \n",
       "\n",
       "    ICE  \n",
       "8  16.2  \n",
       "0  13.3  \n",
       "7  11.2  \n",
       "6   8.0  \n",
       "2   7.0  \n",
       "1   2.0  \n",
       "5   1.3  \n",
       "3   1.1  \n",
       "4   1.0  "
      ]
     },
     "metadata": {},
     "output_type": "display_data"
    }
   ],
   "source": [
    "hypothesis['ICE'] = round((hypothesis.Impact * hypothesis.Confidence) / hypothesis.Efforts, 1)\n",
    "\n",
    "display(hypothesis[['Hypothesis', 'ICE']].sort_values(by='ICE', ascending=False))"
   ]
  },
  {
   "cell_type": "markdown",
   "id": "7d85492f",
   "metadata": {},
   "source": [
    "Итак видим первые результаты: максимальный приоритет - акция ко дню рождения, и действительно она сильно повлияет на пользователей и наша уверенность в ней практически максимальная. Далее идёт идея добавления двух новых каналов привлечения и добавление формы подписки на все основные страницы."
   ]
  },
  {
   "cell_type": "markdown",
   "id": "15ca5ff6",
   "metadata": {},
   "source": [
    "### Фреймворк RICE\n",
    "\n",
    "$$RICE = \\frac{Rearch * Impact * Confidence}{Efforts}$$\n",
    "\n",
    "Применим фреймворк RICE для приоритизации гипотез. Отсортируем их по убыванию приоритета."
   ]
  },
  {
   "cell_type": "code",
   "execution_count": 6,
   "id": "f3c0cd56",
   "metadata": {
    "scrolled": true
   },
   "outputs": [
    {
     "data": {
      "text/html": [
       "<div>\n",
       "<style scoped>\n",
       "    .dataframe tbody tr th:only-of-type {\n",
       "        vertical-align: middle;\n",
       "    }\n",
       "\n",
       "    .dataframe tbody tr th {\n",
       "        vertical-align: top;\n",
       "    }\n",
       "\n",
       "    .dataframe thead th {\n",
       "        text-align: right;\n",
       "    }\n",
       "</style>\n",
       "<table border=\"1\" class=\"dataframe\">\n",
       "  <thead>\n",
       "    <tr style=\"text-align: right;\">\n",
       "      <th></th>\n",
       "      <th>Hypothesis</th>\n",
       "      <th>RICE</th>\n",
       "    </tr>\n",
       "  </thead>\n",
       "  <tbody>\n",
       "    <tr>\n",
       "      <th>7</th>\n",
       "      <td>Добавить форму подписки на все основные страницы, чтобы собрать базу клиентов для email-рассылок</td>\n",
       "      <td>112.0</td>\n",
       "    </tr>\n",
       "    <tr>\n",
       "      <th>2</th>\n",
       "      <td>Добавить блоки рекомендаций товаров на сайт интернет магазина, чтобы повысить конверсию и средний чек заказа</td>\n",
       "      <td>56.0</td>\n",
       "    </tr>\n",
       "    <tr>\n",
       "      <th>0</th>\n",
       "      <td>Добавить два новых канала привлечения трафика, что позволит привлекать на 30% больше пользователей</td>\n",
       "      <td>40.0</td>\n",
       "    </tr>\n",
       "    <tr>\n",
       "      <th>6</th>\n",
       "      <td>Показать на главной странице баннеры с актуальными акциями и распродажами, чтобы увеличить конверсию</td>\n",
       "      <td>40.0</td>\n",
       "    </tr>\n",
       "    <tr>\n",
       "      <th>8</th>\n",
       "      <td>Запустить акцию, дающую скидку на товар в день рождения</td>\n",
       "      <td>16.2</td>\n",
       "    </tr>\n",
       "    <tr>\n",
       "      <th>3</th>\n",
       "      <td>Изменить структура категорий, что увеличит конверсию, т.к. пользователи быстрее найдут нужный товар</td>\n",
       "      <td>9.0</td>\n",
       "    </tr>\n",
       "    <tr>\n",
       "      <th>1</th>\n",
       "      <td>Запустить собственную службу доставки, что сократит срок доставки заказов</td>\n",
       "      <td>4.0</td>\n",
       "    </tr>\n",
       "    <tr>\n",
       "      <th>5</th>\n",
       "      <td>Добавить страницу отзывов клиентов о магазине, что позволит увеличить количество заказов</td>\n",
       "      <td>4.0</td>\n",
       "    </tr>\n",
       "    <tr>\n",
       "      <th>4</th>\n",
       "      <td>Изменить цвет фона главной страницы, чтобы увеличить вовлеченность пользователей</td>\n",
       "      <td>3.0</td>\n",
       "    </tr>\n",
       "  </tbody>\n",
       "</table>\n",
       "</div>"
      ],
      "text/plain": [
       "                                                                                                     Hypothesis  \\\n",
       "7              Добавить форму подписки на все основные страницы, чтобы собрать базу клиентов для email-рассылок   \n",
       "2  Добавить блоки рекомендаций товаров на сайт интернет магазина, чтобы повысить конверсию и средний чек заказа   \n",
       "0            Добавить два новых канала привлечения трафика, что позволит привлекать на 30% больше пользователей   \n",
       "6          Показать на главной странице баннеры с актуальными акциями и распродажами, чтобы увеличить конверсию   \n",
       "8                                                       Запустить акцию, дающую скидку на товар в день рождения   \n",
       "3           Изменить структура категорий, что увеличит конверсию, т.к. пользователи быстрее найдут нужный товар   \n",
       "1                                     Запустить собственную службу доставки, что сократит срок доставки заказов   \n",
       "5                      Добавить страницу отзывов клиентов о магазине, что позволит увеличить количество заказов   \n",
       "4                              Изменить цвет фона главной страницы, чтобы увеличить вовлеченность пользователей   \n",
       "\n",
       "    RICE  \n",
       "7  112.0  \n",
       "2   56.0  \n",
       "0   40.0  \n",
       "6   40.0  \n",
       "8   16.2  \n",
       "3    9.0  \n",
       "1    4.0  \n",
       "5    4.0  \n",
       "4    3.0  "
      ]
     },
     "metadata": {},
     "output_type": "display_data"
    }
   ],
   "source": [
    "hypothesis['RICE'] = (hypothesis.Reach * hypothesis.Impact * hypothesis.Confidence) / hypothesis.Efforts\n",
    "\n",
    "display(hypothesis[['Hypothesis', 'RICE']].sort_values(by='RICE', ascending=False))"
   ]
  },
  {
   "cell_type": "markdown",
   "id": "5be05025",
   "metadata": {},
   "source": [
    "А вот тут уже картина меняется, ведь теперь мы учитываем скольких пользователей затронет изменение, которое мы хотим внести.\n",
    "И конечно вырывается вперед гипотеза с добавлением формы подписки, ведь она охватывает максимальное количество пользователей, далее идёт идея о добавлении рекомендаций, и хотя влияние её на пользователей ниже, зато охват и уверенность высокие при низких затратах на проверку.\n",
    "\n",
    "Отдельно стоит сказать о \"крепком середнячке\" - гипотезе о показе баннеров на главной странице, в обоих фреймворках занимает 4 место."
   ]
  },
  {
   "cell_type": "code",
   "execution_count": 7,
   "id": "ecf99b34",
   "metadata": {
    "scrolled": false
   },
   "outputs": [
    {
     "data": {
      "text/html": [
       "<style  type=\"text/css\" >\n",
       "#T_148d4_row0_col1{\n",
       "            background-color:  #3686c0;\n",
       "            color:  #000000;\n",
       "        }#T_148d4_row0_col2,#T_148d4_row4_col1{\n",
       "            background-color:  #08306b;\n",
       "            color:  #f1f1f1;\n",
       "        }#T_148d4_row1_col1{\n",
       "            background-color:  #95c5df;\n",
       "            color:  #000000;\n",
       "        }#T_148d4_row1_col2{\n",
       "            background-color:  #71b1d7;\n",
       "            color:  #000000;\n",
       "        }#T_148d4_row2_col1{\n",
       "            background-color:  #1561a9;\n",
       "            color:  #f1f1f1;\n",
       "        }#T_148d4_row2_col2,#T_148d4_row3_col2{\n",
       "            background-color:  #aacfe5;\n",
       "            color:  #000000;\n",
       "        }#T_148d4_row3_col1{\n",
       "            background-color:  #7cb7da;\n",
       "            color:  #000000;\n",
       "        }#T_148d4_row4_col2{\n",
       "            background-color:  #dfebf7;\n",
       "            color:  #000000;\n",
       "        }#T_148d4_row5_col1{\n",
       "            background-color:  #f6faff;\n",
       "            color:  #000000;\n",
       "        }#T_148d4_row5_col2{\n",
       "            background-color:  #ecf4fb;\n",
       "            color:  #000000;\n",
       "        }#T_148d4_row6_col1{\n",
       "            background-color:  #eaf3fb;\n",
       "            color:  #000000;\n",
       "        }#T_148d4_row6_col2,#T_148d4_row7_col2{\n",
       "            background-color:  #f5fafe;\n",
       "            color:  #000000;\n",
       "        }#T_148d4_row7_col1{\n",
       "            background-color:  #f3f8fe;\n",
       "            color:  #000000;\n",
       "        }#T_148d4_row8_col1,#T_148d4_row8_col2{\n",
       "            background-color:  #f7fbff;\n",
       "            color:  #000000;\n",
       "        }</style><table id=\"T_148d4_\" ><thead>    <tr>        <th class=\"blank level0\" ></th>        <th class=\"col_heading level0 col0\" >Hypothesis</th>        <th class=\"col_heading level0 col1\" >ICE</th>        <th class=\"col_heading level0 col2\" >RICE</th>    </tr></thead><tbody>\n",
       "                <tr>\n",
       "                        <th id=\"T_148d4_level0_row0\" class=\"row_heading level0 row0\" >7</th>\n",
       "                        <td id=\"T_148d4_row0_col0\" class=\"data row0 col0\" >Добавить форму подписки на все основные страницы, чтобы собрать базу клиентов для email-рассылок</td>\n",
       "                        <td id=\"T_148d4_row0_col1\" class=\"data row0 col1\" >11.200000</td>\n",
       "                        <td id=\"T_148d4_row0_col2\" class=\"data row0 col2\" >112.000000</td>\n",
       "            </tr>\n",
       "            <tr>\n",
       "                        <th id=\"T_148d4_level0_row1\" class=\"row_heading level0 row1\" >2</th>\n",
       "                        <td id=\"T_148d4_row1_col0\" class=\"data row1 col0\" >Добавить блоки рекомендаций товаров на сайт интернет магазина, чтобы повысить конверсию и средний чек заказа</td>\n",
       "                        <td id=\"T_148d4_row1_col1\" class=\"data row1 col1\" >7.000000</td>\n",
       "                        <td id=\"T_148d4_row1_col2\" class=\"data row1 col2\" >56.000000</td>\n",
       "            </tr>\n",
       "            <tr>\n",
       "                        <th id=\"T_148d4_level0_row2\" class=\"row_heading level0 row2\" >0</th>\n",
       "                        <td id=\"T_148d4_row2_col0\" class=\"data row2 col0\" >Добавить два новых канала привлечения трафика, что позволит привлекать на 30% больше пользователей</td>\n",
       "                        <td id=\"T_148d4_row2_col1\" class=\"data row2 col1\" >13.300000</td>\n",
       "                        <td id=\"T_148d4_row2_col2\" class=\"data row2 col2\" >40.000000</td>\n",
       "            </tr>\n",
       "            <tr>\n",
       "                        <th id=\"T_148d4_level0_row3\" class=\"row_heading level0 row3\" >6</th>\n",
       "                        <td id=\"T_148d4_row3_col0\" class=\"data row3 col0\" >Показать на главной странице баннеры с актуальными акциями и распродажами, чтобы увеличить конверсию</td>\n",
       "                        <td id=\"T_148d4_row3_col1\" class=\"data row3 col1\" >8.000000</td>\n",
       "                        <td id=\"T_148d4_row3_col2\" class=\"data row3 col2\" >40.000000</td>\n",
       "            </tr>\n",
       "            <tr>\n",
       "                        <th id=\"T_148d4_level0_row4\" class=\"row_heading level0 row4\" >8</th>\n",
       "                        <td id=\"T_148d4_row4_col0\" class=\"data row4 col0\" >Запустить акцию, дающую скидку на товар в день рождения</td>\n",
       "                        <td id=\"T_148d4_row4_col1\" class=\"data row4 col1\" >16.200000</td>\n",
       "                        <td id=\"T_148d4_row4_col2\" class=\"data row4 col2\" >16.200000</td>\n",
       "            </tr>\n",
       "            <tr>\n",
       "                        <th id=\"T_148d4_level0_row5\" class=\"row_heading level0 row5\" >3</th>\n",
       "                        <td id=\"T_148d4_row5_col0\" class=\"data row5 col0\" >Изменить структура категорий, что увеличит конверсию, т.к. пользователи быстрее найдут нужный товар</td>\n",
       "                        <td id=\"T_148d4_row5_col1\" class=\"data row5 col1\" >1.100000</td>\n",
       "                        <td id=\"T_148d4_row5_col2\" class=\"data row5 col2\" >9.000000</td>\n",
       "            </tr>\n",
       "            <tr>\n",
       "                        <th id=\"T_148d4_level0_row6\" class=\"row_heading level0 row6\" >1</th>\n",
       "                        <td id=\"T_148d4_row6_col0\" class=\"data row6 col0\" >Запустить собственную службу доставки, что сократит срок доставки заказов</td>\n",
       "                        <td id=\"T_148d4_row6_col1\" class=\"data row6 col1\" >2.000000</td>\n",
       "                        <td id=\"T_148d4_row6_col2\" class=\"data row6 col2\" >4.000000</td>\n",
       "            </tr>\n",
       "            <tr>\n",
       "                        <th id=\"T_148d4_level0_row7\" class=\"row_heading level0 row7\" >5</th>\n",
       "                        <td id=\"T_148d4_row7_col0\" class=\"data row7 col0\" >Добавить страницу отзывов клиентов о магазине, что позволит увеличить количество заказов</td>\n",
       "                        <td id=\"T_148d4_row7_col1\" class=\"data row7 col1\" >1.300000</td>\n",
       "                        <td id=\"T_148d4_row7_col2\" class=\"data row7 col2\" >4.000000</td>\n",
       "            </tr>\n",
       "            <tr>\n",
       "                        <th id=\"T_148d4_level0_row8\" class=\"row_heading level0 row8\" >4</th>\n",
       "                        <td id=\"T_148d4_row8_col0\" class=\"data row8 col0\" >Изменить цвет фона главной страницы, чтобы увеличить вовлеченность пользователей</td>\n",
       "                        <td id=\"T_148d4_row8_col1\" class=\"data row8 col1\" >1.000000</td>\n",
       "                        <td id=\"T_148d4_row8_col2\" class=\"data row8 col2\" >3.000000</td>\n",
       "            </tr>\n",
       "    </tbody></table>"
      ],
      "text/plain": [
       "<pandas.io.formats.style.Styler at 0x7f4dfa94eb20>"
      ]
     },
     "metadata": {},
     "output_type": "display_data"
    }
   ],
   "source": [
    "display(hypothesis[['Hypothesis', 'ICE', 'RICE']]\n",
    "        .sort_values(by='RICE', ascending=False)\n",
    "        .style.background_gradient(cmap='Blues')) "
   ]
  },
  {
   "cell_type": "code",
   "execution_count": 8,
   "id": "d1295ac2",
   "metadata": {},
   "outputs": [
    {
     "data": {
      "image/png": "[encoded data removed]",
      "text/plain": [
       "<Figure size 504x504 with 1 Axes>"
      ]
     },
     "metadata": {
      "needs_background": "light"
     },
     "output_type": "display_data"
    }
   ],
   "source": [
    "# Строю диаграмму рассеяния для гипотез\n",
    "\n",
    "hyp = hypothesis[['Hypothesis', 'ICE', 'RICE']]\n",
    "fig, ax = plt.subplots()\n",
    "\n",
    "ax.scatter(hyp['ICE'], hyp['RICE'],\n",
    "           marker = 'o',\n",
    "           c = hyp['ICE'],\n",
    "           s = 10*hyp['RICE'],\n",
    "           linewidths = 2,\n",
    "           edgecolors = 'black',\n",
    "           alpha = 0.6)\n",
    "\n",
    "fig.set_figwidth(7)    \n",
    "fig.set_figheight(7)\n",
    "plt.xlabel(\"ICE\")\n",
    "plt.ylabel(\"RICE\")\n",
    "plt.show();"
   ]
  },
  {
   "cell_type": "markdown",
   "id": "ab694d81",
   "metadata": {},
   "source": [
    "## Часть 2. Анализ A/B-теста"
   ]
  },
  {
   "cell_type": "markdown",
   "id": "98cf36bc",
   "metadata": {},
   "source": [
    "Приведём формат даты"
   ]
  },
  {
   "cell_type": "code",
   "execution_count": 9,
   "id": "1a2a6d3e",
   "metadata": {},
   "outputs": [
    {
     "data": {
      "text/html": [
       "<div>\n",
       "<style scoped>\n",
       "    .dataframe tbody tr th:only-of-type {\n",
       "        vertical-align: middle;\n",
       "    }\n",
       "\n",
       "    .dataframe tbody tr th {\n",
       "        vertical-align: top;\n",
       "    }\n",
       "\n",
       "    .dataframe thead th {\n",
       "        text-align: right;\n",
       "    }\n",
       "</style>\n",
       "<table border=\"1\" class=\"dataframe\">\n",
       "  <thead>\n",
       "    <tr style=\"text-align: right;\">\n",
       "      <th></th>\n",
       "      <th>transactionId</th>\n",
       "      <th>visitorId</th>\n",
       "      <th>date</th>\n",
       "      <th>revenue</th>\n",
       "      <th>group</th>\n",
       "    </tr>\n",
       "  </thead>\n",
       "  <tbody>\n",
       "    <tr>\n",
       "      <th>0</th>\n",
       "      <td>3667963787</td>\n",
       "      <td>3312258926</td>\n",
       "      <td>2019-08-15</td>\n",
       "      <td>1650</td>\n",
       "      <td>B</td>\n",
       "    </tr>\n",
       "    <tr>\n",
       "      <th>1</th>\n",
       "      <td>2804400009</td>\n",
       "      <td>3642806036</td>\n",
       "      <td>2019-08-15</td>\n",
       "      <td>730</td>\n",
       "      <td>B</td>\n",
       "    </tr>\n",
       "    <tr>\n",
       "      <th>2</th>\n",
       "      <td>2961555356</td>\n",
       "      <td>4069496402</td>\n",
       "      <td>2019-08-15</td>\n",
       "      <td>400</td>\n",
       "      <td>A</td>\n",
       "    </tr>\n",
       "    <tr>\n",
       "      <th>3</th>\n",
       "      <td>3797467345</td>\n",
       "      <td>1196621759</td>\n",
       "      <td>2019-08-15</td>\n",
       "      <td>9759</td>\n",
       "      <td>B</td>\n",
       "    </tr>\n",
       "    <tr>\n",
       "      <th>4</th>\n",
       "      <td>2282983706</td>\n",
       "      <td>2322279887</td>\n",
       "      <td>2019-08-15</td>\n",
       "      <td>2308</td>\n",
       "      <td>B</td>\n",
       "    </tr>\n",
       "  </tbody>\n",
       "</table>\n",
       "</div>"
      ],
      "text/plain": [
       "   transactionId   visitorId       date  revenue group\n",
       "0     3667963787  3312258926 2019-08-15     1650     B\n",
       "1     2804400009  3642806036 2019-08-15      730     B\n",
       "2     2961555356  4069496402 2019-08-15      400     A\n",
       "3     3797467345  1196621759 2019-08-15     9759     B\n",
       "4     2282983706  2322279887 2019-08-15     2308     B"
      ]
     },
     "metadata": {},
     "output_type": "display_data"
    },
    {
     "data": {
      "text/html": [
       "<div>\n",
       "<style scoped>\n",
       "    .dataframe tbody tr th:only-of-type {\n",
       "        vertical-align: middle;\n",
       "    }\n",
       "\n",
       "    .dataframe tbody tr th {\n",
       "        vertical-align: top;\n",
       "    }\n",
       "\n",
       "    .dataframe thead th {\n",
       "        text-align: right;\n",
       "    }\n",
       "</style>\n",
       "<table border=\"1\" class=\"dataframe\">\n",
       "  <thead>\n",
       "    <tr style=\"text-align: right;\">\n",
       "      <th></th>\n",
       "      <th>date</th>\n",
       "      <th>group</th>\n",
       "      <th>visitors</th>\n",
       "    </tr>\n",
       "  </thead>\n",
       "  <tbody>\n",
       "    <tr>\n",
       "      <th>0</th>\n",
       "      <td>2019-08-01</td>\n",
       "      <td>A</td>\n",
       "      <td>719</td>\n",
       "    </tr>\n",
       "    <tr>\n",
       "      <th>1</th>\n",
       "      <td>2019-08-02</td>\n",
       "      <td>A</td>\n",
       "      <td>619</td>\n",
       "    </tr>\n",
       "    <tr>\n",
       "      <th>2</th>\n",
       "      <td>2019-08-03</td>\n",
       "      <td>A</td>\n",
       "      <td>507</td>\n",
       "    </tr>\n",
       "    <tr>\n",
       "      <th>3</th>\n",
       "      <td>2019-08-04</td>\n",
       "      <td>A</td>\n",
       "      <td>717</td>\n",
       "    </tr>\n",
       "    <tr>\n",
       "      <th>4</th>\n",
       "      <td>2019-08-05</td>\n",
       "      <td>A</td>\n",
       "      <td>756</td>\n",
       "    </tr>\n",
       "  </tbody>\n",
       "</table>\n",
       "</div>"
      ],
      "text/plain": [
       "        date group  visitors\n",
       "0 2019-08-01     A       719\n",
       "1 2019-08-02     A       619\n",
       "2 2019-08-03     A       507\n",
       "3 2019-08-04     A       717\n",
       "4 2019-08-05     A       756"
      ]
     },
     "metadata": {},
     "output_type": "display_data"
    }
   ],
   "source": [
    "orders['date'] = orders['date'].map(\n",
    "    lambda x: dt.datetime.strptime(x, '%Y-%m-%d')\n",
    ")\n",
    "\n",
    "visitors['date'] = visitors['date'].map(\n",
    "    lambda x: dt.datetime.strptime(x, '%Y-%m-%d')\n",
    ")\n",
    "\n",
    "display(orders.head(5))\n",
    "display(visitors.head(5))\n"
   ]
  },
  {
   "cell_type": "markdown",
   "id": "d1e2ab84",
   "metadata": {},
   "source": [
    "### Проверка разделения\n",
    "Как говорит нам теория, перед проведением А/В-теста нужно убедится в качественном разделении пользователей по группам, ведь иначе результаты будут неверны"
   ]
  },
  {
   "cell_type": "code",
   "execution_count": 10,
   "id": "0811ff04",
   "metadata": {},
   "outputs": [
    {
     "name": "stdout",
     "output_type": "stream",
     "text": [
      "Число пользователей сразу в 2 группах: 58\n"
     ]
    }
   ],
   "source": [
    "# Проверка пользователей, попавших в обе группы:\n",
    "group_count = orders.groupby('visitorId')['group'].nunique()\n",
    "bad_users = group_count[group_count > 1].index\n",
    "print('Число пользователей сразу в 2 группах:', len(bad_users))"
   ]
  },
  {
   "cell_type": "markdown",
   "id": "d51dff6a",
   "metadata": {},
   "source": [
    "После такого результата я почти запаниковал.. как убрать влияние этих пользователей на всю нашу конструкцию? Сложно..\n",
    "\n",
    "Затем пришла мысль, что таких пользователей очень мало, возможно тестировщики и т.д. Пусть остаются"
   ]
  },
  {
   "cell_type": "code",
   "execution_count": 11,
   "id": "9dfea99a",
   "metadata": {},
   "outputs": [
    {
     "data": {
      "text/html": [
       "<div>\n",
       "<style scoped>\n",
       "    .dataframe tbody tr th:only-of-type {\n",
       "        vertical-align: middle;\n",
       "    }\n",
       "\n",
       "    .dataframe tbody tr th {\n",
       "        vertical-align: top;\n",
       "    }\n",
       "\n",
       "    .dataframe thead th {\n",
       "        text-align: right;\n",
       "    }\n",
       "</style>\n",
       "<table border=\"1\" class=\"dataframe\">\n",
       "  <thead>\n",
       "    <tr style=\"text-align: right;\">\n",
       "      <th></th>\n",
       "      <th>date</th>\n",
       "      <th>group</th>\n",
       "      <th>orders</th>\n",
       "      <th>buyers</th>\n",
       "      <th>revenue</th>\n",
       "      <th>visitors</th>\n",
       "    </tr>\n",
       "  </thead>\n",
       "  <tbody>\n",
       "    <tr>\n",
       "      <th>0</th>\n",
       "      <td>2019-08-01</td>\n",
       "      <td>A</td>\n",
       "      <td>24</td>\n",
       "      <td>20</td>\n",
       "      <td>148579</td>\n",
       "      <td>719</td>\n",
       "    </tr>\n",
       "    <tr>\n",
       "      <th>1</th>\n",
       "      <td>2019-08-01</td>\n",
       "      <td>B</td>\n",
       "      <td>21</td>\n",
       "      <td>20</td>\n",
       "      <td>101217</td>\n",
       "      <td>713</td>\n",
       "    </tr>\n",
       "    <tr>\n",
       "      <th>2</th>\n",
       "      <td>2019-08-02</td>\n",
       "      <td>A</td>\n",
       "      <td>44</td>\n",
       "      <td>38</td>\n",
       "      <td>242401</td>\n",
       "      <td>1338</td>\n",
       "    </tr>\n",
       "    <tr>\n",
       "      <th>3</th>\n",
       "      <td>2019-08-02</td>\n",
       "      <td>B</td>\n",
       "      <td>45</td>\n",
       "      <td>43</td>\n",
       "      <td>266748</td>\n",
       "      <td>1294</td>\n",
       "    </tr>\n",
       "    <tr>\n",
       "      <th>4</th>\n",
       "      <td>2019-08-03</td>\n",
       "      <td>A</td>\n",
       "      <td>68</td>\n",
       "      <td>62</td>\n",
       "      <td>354874</td>\n",
       "      <td>1845</td>\n",
       "    </tr>\n",
       "  </tbody>\n",
       "</table>\n",
       "</div>"
      ],
      "text/plain": [
       "        date group  orders  buyers  revenue  visitors\n",
       "0 2019-08-01     A      24      20   148579       719\n",
       "1 2019-08-01     B      21      20   101217       713\n",
       "2 2019-08-02     A      44      38   242401      1338\n",
       "3 2019-08-02     B      45      43   266748      1294\n",
       "4 2019-08-03     A      68      62   354874      1845"
      ]
     },
     "metadata": {},
     "output_type": "display_data"
    }
   ],
   "source": [
    "# создаем массив уникальных пар значений дат и групп теста\n",
    "datesGroups = orders[['date','group']].drop_duplicates()\n",
    "\n",
    "# получаем агрегированные кумулятивные по дням данные о заказах \n",
    "ordersAggregated = (\n",
    "    datesGroups.apply(lambda x: orders[np.logical_and(orders['date'] <= x['date'], orders['group'] == x['group'])]\\\n",
    "                      .agg({'date' : 'max', \n",
    "                            'group' : 'max', \n",
    "                            'transactionId' : 'nunique', \n",
    "                            'visitorId' : 'nunique', \n",
    "                            'revenue' : 'sum'}), axis=1)\\\n",
    "    .sort_values(by=['date','group'])\n",
    ")\n",
    "\n",
    "# получаем агрегированные кумулятивные по дням данные о посетителях интернет-магазина \n",
    "visitorsAggregated = (\n",
    "    datesGroups.apply(lambda x: visitors[np.logical_and(visitors['date'] <= x['date'], visitors['group'] == x['group'])]\\\n",
    "                      .agg({'date' : 'max', 'group' : 'max', 'visitors' : 'sum'}), axis=1).sort_values(by=['date','group'])\n",
    ")\n",
    "\n",
    "# объединяем кумулятивные данные в одной таблице и присваиваем ее столбцам понятные названия\n",
    "cumulativeData = ordersAggregated.merge(visitorsAggregated, left_on=['date', 'group'], right_on=['date', 'group'])\n",
    "cumulativeData.columns = ['date', 'group', 'orders', 'buyers', 'revenue', 'visitors']\n",
    "\n",
    "display(cumulativeData.head()) "
   ]
  },
  {
   "cell_type": "markdown",
   "id": "602b70a3",
   "metadata": {},
   "source": [
    "### График кумулятивной выручки по группам "
   ]
  },
  {
   "cell_type": "code",
   "execution_count": 12,
   "id": "eaeac549",
   "metadata": {},
   "outputs": [
    {
     "data": {
      "image/png": "[encoded data removed]",
      "text/plain": [
       "<Figure size 1080x360 with 1 Axes>"
      ]
     },
     "metadata": {
      "needs_background": "light"
     },
     "output_type": "display_data"
    }
   ],
   "source": [
    "# датафрейм с кумулятивным количеством заказов и кумулятивной выручкой по дням в группе А\n",
    "cumulativeRevenueA = cumulativeData[cumulativeData['group']=='A'][['date','revenue', 'orders']]\n",
    "\n",
    "# датафрейм с кумулятивным количеством заказов и кумулятивной выручкой по дням в группе B\n",
    "cumulativeRevenueB = cumulativeData[cumulativeData['group']=='B'][['date','revenue', 'orders']]\n",
    "\n",
    "plt.figure(figsize=(15, 5))\n",
    "\n",
    "# Строим график выручки группы А\n",
    "plt.plot(cumulativeRevenueA['date'], cumulativeRevenueA['revenue'], label='A')\n",
    "\n",
    "# Строим график выручки группы B\n",
    "plt.plot(cumulativeRevenueB['date'], cumulativeRevenueB['revenue'], label='B')\n",
    "\n",
    "plt.title('График кумулятивной выручки по группам')\n",
    "\n",
    "plt.legend();"
   ]
  },
  {
   "cell_type": "markdown",
   "id": "e590100e",
   "metadata": {},
   "source": [
    "Видим, что выручка растёт, это хорошо. Так же у группы В есть резкий скачок, подозреваю выброс."
   ]
  },
  {
   "cell_type": "markdown",
   "id": "b732e0b4",
   "metadata": {},
   "source": [
    "### График кумулятивного среднего чека по группам\n",
    "Построим графики среднего чека по группам — разделим кумулятивную выручку на кумулятивное число заказов:"
   ]
  },
  {
   "cell_type": "code",
   "execution_count": 13,
   "id": "4c35250e",
   "metadata": {},
   "outputs": [
    {
     "data": {
      "image/png": "[encoded data removed]",
      "text/plain": [
       "<Figure size 1080x360 with 1 Axes>"
      ]
     },
     "metadata": {
      "needs_background": "light"
     },
     "output_type": "display_data"
    }
   ],
   "source": [
    "plt.figure(figsize=(15, 5))\n",
    "plt.plot(cumulativeRevenueA['date'], cumulativeRevenueA['revenue']/cumulativeRevenueA['orders'], label='A')\n",
    "plt.plot(cumulativeRevenueB['date'], cumulativeRevenueB['revenue']/cumulativeRevenueB['orders'], label='B')\n",
    "plt.title('График среднего чека по группам')\n",
    "plt.legend(); "
   ]
  },
  {
   "cell_type": "markdown",
   "id": "b2369ffc",
   "metadata": {},
   "source": [
    "Средний чек становится равномерным ближе к концу теста: установился для группы A и продолжает падать для группы B. Возможно, в группу B попали крупные заказы (резкий всплеск на графике). Тогда ей нужно больше данных, чтобы прийти к реальному среднему чеку и установиться на его уровне."
   ]
  },
  {
   "cell_type": "markdown",
   "id": "ed8f2116",
   "metadata": {},
   "source": [
    "### График относительного изменения кумулятивного среднего чека группы B к группе A"
   ]
  },
  {
   "cell_type": "markdown",
   "id": "9520e2fb",
   "metadata": {},
   "source": [
    "Построим график относительного различия для среднего чека"
   ]
  },
  {
   "cell_type": "code",
   "execution_count": 14,
   "id": "fa593f91",
   "metadata": {},
   "outputs": [
    {
     "data": {
      "image/png": "[encoded data removed]",
      "text/plain": [
       "<Figure size 1080x360 with 1 Axes>"
      ]
     },
     "metadata": {
      "needs_background": "light"
     },
     "output_type": "display_data"
    }
   ],
   "source": [
    "# собираем данные в одном датафрейме\n",
    "mergedCumulativeRevenue = cumulativeRevenueA.merge(cumulativeRevenueB, left_on='date', \n",
    "                                                   right_on='date', how='left', suffixes=['A', 'B'])\n",
    "\n",
    "plt.figure(figsize=(15, 5))\n",
    "\n",
    "# cтроим отношение средних чеков\n",
    "plt.plot(mergedCumulativeRevenue['date'], \n",
    "         (mergedCumulativeRevenue['revenueB']/mergedCumulativeRevenue['ordersB'])/(\n",
    "             mergedCumulativeRevenue['revenueA']/mergedCumulativeRevenue['ordersA'])-1)\n",
    "\n",
    "# добавляем ось X\n",
    "plt.axhline(y=0, color='black', linestyle='--')\n",
    "\n",
    "plt.title('График относительного различия для среднего чека');"
   ]
  },
  {
   "cell_type": "markdown",
   "id": "87698c38",
   "metadata": {},
   "source": [
    "В нескольких точках график различия между сегментами резко «скачет». Где-то уж точно спрятались крупные заказы и выбросы."
   ]
  },
  {
   "cell_type": "markdown",
   "id": "2b1b38fe",
   "metadata": {},
   "source": [
    "### График кумулятивной конверсии по группам\n",
    "Аналогично проанализируем график кумулятивной конверсии"
   ]
  },
  {
   "cell_type": "code",
   "execution_count": 15,
   "id": "ba9686e0",
   "metadata": {},
   "outputs": [
    {
     "data": {
      "image/png": "[encoded data removed]",
      "text/plain": [
       "<Figure size 1080x360 with 1 Axes>"
      ]
     },
     "metadata": {
      "needs_background": "light"
     },
     "output_type": "display_data"
    }
   ],
   "source": [
    "# считаем кумулятивную конверсию\n",
    "cumulativeData['conversion'] = cumulativeData['orders']/cumulativeData['visitors']\n",
    "\n",
    "# отделяем данные по группе A\n",
    "cumulativeDataA = cumulativeData[cumulativeData['group']=='A']\n",
    "\n",
    "# отделяем данные по группе B\n",
    "cumulativeDataB = cumulativeData[cumulativeData['group']=='B']\n",
    "\n",
    "# строим графики\n",
    "plt.figure(figsize=(15, 5))\n",
    "plt.plot(cumulativeDataA['date'], cumulativeDataA['conversion'], label='A')\n",
    "plt.plot(cumulativeDataB['date'], cumulativeDataB['conversion'], label='B')\n",
    "plt.legend()\n",
    "\n",
    "plt.title('График кумулятивной конверсии по группам')\n",
    "\n",
    "plt.axis([dt.datetime(2019, 8, 1), dt.datetime(2019, 9, 1), 0.02, 0.04]);"
   ]
  },
  {
   "cell_type": "markdown",
   "id": "a77278fa",
   "metadata": {},
   "source": [
    "Сегмент В вырос относительно А и зафиксировался, колебание было небольшим от 3% до 4%"
   ]
  },
  {
   "cell_type": "markdown",
   "id": "d3b1ccc6",
   "metadata": {},
   "source": [
    "### График относительного изменения кумулятивной конверсии группы B к группе A"
   ]
  },
  {
   "cell_type": "code",
   "execution_count": 16,
   "id": "05e80e94",
   "metadata": {},
   "outputs": [
    {
     "data": {
      "image/png": "[encoded data removed]",
      "text/plain": [
       "<Figure size 1080x360 with 1 Axes>"
      ]
     },
     "metadata": {
      "needs_background": "light"
     },
     "output_type": "display_data"
    }
   ],
   "source": [
    "mergedCumulativeConversions = cumulativeDataA[['date','conversion']]\\\n",
    ".merge(cumulativeDataB[['date','conversion']], left_on='date', right_on='date', how='left', suffixes=['A', 'B'])\n",
    "\n",
    "plt.figure(figsize=(15, 5))\n",
    "plt.plot(mergedCumulativeConversions['date'], \n",
    "         mergedCumulativeConversions['conversionB']/mergedCumulativeConversions['conversionA']-1, \n",
    "         label=\"Относительный прирост конверсии группы B относительно группы A\")\n",
    "plt.legend()\n",
    "\n",
    "plt.axhline(y=0, color='black', linestyle='--')\n",
    "plt.axhline(y=0.2, color='grey', linestyle='--')\n",
    "plt.axis([dt.datetime(2019, 8, 1), dt.datetime(2019, 9, 1), -0.2, 0.3]);"
   ]
  },
  {
   "cell_type": "markdown",
   "id": "0c8f3300",
   "metadata": {},
   "source": [
    "Почти с начала группа В вырвалась вперёд .В какой-то момент конверсия группы В была больше 20% относительно А, затем начала спадать и выравниваться."
   ]
  },
  {
   "cell_type": "markdown",
   "id": "8db81946",
   "metadata": {},
   "source": [
    "### Количество заказов по пользователям"
   ]
  },
  {
   "cell_type": "markdown",
   "id": "5e813c6f",
   "metadata": {},
   "source": [
    "Подсчитаем количество заказов по пользователям"
   ]
  },
  {
   "cell_type": "code",
   "execution_count": 17,
   "id": "4c8ee15a",
   "metadata": {},
   "outputs": [
    {
     "data": {
      "text/html": [
       "<div>\n",
       "<style scoped>\n",
       "    .dataframe tbody tr th:only-of-type {\n",
       "        vertical-align: middle;\n",
       "    }\n",
       "\n",
       "    .dataframe tbody tr th {\n",
       "        vertical-align: top;\n",
       "    }\n",
       "\n",
       "    .dataframe thead th {\n",
       "        text-align: right;\n",
       "    }\n",
       "</style>\n",
       "<table border=\"1\" class=\"dataframe\">\n",
       "  <thead>\n",
       "    <tr style=\"text-align: right;\">\n",
       "      <th></th>\n",
       "      <th>visitorId</th>\n",
       "      <th>orders</th>\n",
       "    </tr>\n",
       "  </thead>\n",
       "  <tbody>\n",
       "    <tr>\n",
       "      <th>0</th>\n",
       "      <td>5114589</td>\n",
       "      <td>1</td>\n",
       "    </tr>\n",
       "    <tr>\n",
       "      <th>1</th>\n",
       "      <td>6958315</td>\n",
       "      <td>1</td>\n",
       "    </tr>\n",
       "    <tr>\n",
       "      <th>2</th>\n",
       "      <td>8300375</td>\n",
       "      <td>2</td>\n",
       "    </tr>\n",
       "    <tr>\n",
       "      <th>3</th>\n",
       "      <td>11685486</td>\n",
       "      <td>1</td>\n",
       "    </tr>\n",
       "    <tr>\n",
       "      <th>4</th>\n",
       "      <td>39475350</td>\n",
       "      <td>1</td>\n",
       "    </tr>\n",
       "    <tr>\n",
       "      <th>...</th>\n",
       "      <td>...</td>\n",
       "      <td>...</td>\n",
       "    </tr>\n",
       "    <tr>\n",
       "      <th>1026</th>\n",
       "      <td>4266935830</td>\n",
       "      <td>2</td>\n",
       "    </tr>\n",
       "    <tr>\n",
       "      <th>1027</th>\n",
       "      <td>4278982564</td>\n",
       "      <td>1</td>\n",
       "    </tr>\n",
       "    <tr>\n",
       "      <th>1028</th>\n",
       "      <td>4279090005</td>\n",
       "      <td>1</td>\n",
       "    </tr>\n",
       "    <tr>\n",
       "      <th>1029</th>\n",
       "      <td>4281247801</td>\n",
       "      <td>1</td>\n",
       "    </tr>\n",
       "    <tr>\n",
       "      <th>1030</th>\n",
       "      <td>4283872382</td>\n",
       "      <td>1</td>\n",
       "    </tr>\n",
       "  </tbody>\n",
       "</table>\n",
       "<p>1031 rows × 2 columns</p>\n",
       "</div>"
      ],
      "text/plain": [
       "       visitorId  orders\n",
       "0        5114589       1\n",
       "1        6958315       1\n",
       "2        8300375       2\n",
       "3       11685486       1\n",
       "4       39475350       1\n",
       "...          ...     ...\n",
       "1026  4266935830       2\n",
       "1027  4278982564       1\n",
       "1028  4279090005       1\n",
       "1029  4281247801       1\n",
       "1030  4283872382       1\n",
       "\n",
       "[1031 rows x 2 columns]"
      ]
     },
     "execution_count": 17,
     "metadata": {},
     "output_type": "execute_result"
    }
   ],
   "source": [
    "ordersByUsers = (\n",
    "    orders.groupby('visitorId', as_index=False)\n",
    "    .agg({'transactionId': 'nunique'})\n",
    ")\n",
    "ordersByUsers.columns = ['visitorId', 'orders']\n",
    "ordersByUsers"
   ]
  },
  {
   "cell_type": "markdown",
   "id": "271abcb4",
   "metadata": {},
   "source": [
    "Теперь можем построить точечный график количества заказов по пользователям:"
   ]
  },
  {
   "cell_type": "code",
   "execution_count": 18,
   "id": "2bc92b27",
   "metadata": {},
   "outputs": [
    {
     "data": {
      "image/png": "[encoded data removed]",
      "text/plain": [
       "<Figure size 432x288 with 1 Axes>"
      ]
     },
     "metadata": {
      "needs_background": "light"
     },
     "output_type": "display_data"
    }
   ],
   "source": [
    "x_values = pd.Series(range(0,len(ordersByUsers)))\n",
    "\n",
    "plt.scatter(x_values, ordersByUsers['orders'])\n",
    "plt.title('Точечный график количества заказов по пользователям'); "
   ]
  },
  {
   "cell_type": "markdown",
   "id": "5fd03f52",
   "metadata": {},
   "source": [
    "Теперь посчитаем 95-й и 99-й перцентили количества заказов на пользователя:"
   ]
  },
  {
   "cell_type": "code",
   "execution_count": 19,
   "id": "00d93d48",
   "metadata": {},
   "outputs": [
    {
     "data": {
      "text/plain": [
       "array([2., 4.])"
      ]
     },
     "metadata": {},
     "output_type": "display_data"
    }
   ],
   "source": [
    "display(np.percentile(ordersByUsers['orders'], [95, 99]))"
   ]
  },
  {
   "cell_type": "markdown",
   "id": "1fd32d09",
   "metadata": {},
   "source": [
    "Есть у нас уникумы - \"любимые клиенты\" с заказами больше 10, но их аж двое :) Но не больше 5% пользователей сделали больше 2х заказов и не более 1% - больше 4.\n",
    "\n",
    "Можем выбрать границу для определения аномальных пользователей - более 2х заказов."
   ]
  },
  {
   "cell_type": "markdown",
   "id": "39789d00",
   "metadata": {},
   "source": [
    "### Cтоимость заказов"
   ]
  },
  {
   "cell_type": "markdown",
   "id": "36550067",
   "metadata": {},
   "source": [
    "Построим точечный график стоимости заказов"
   ]
  },
  {
   "cell_type": "code",
   "execution_count": 20,
   "id": "19390903",
   "metadata": {},
   "outputs": [
    {
     "data": {
      "image/png": "[encoded data removed]",
      "text/plain": [
       "<Figure size 432x288 with 1 Axes>"
      ]
     },
     "metadata": {
      "needs_background": "light"
     },
     "output_type": "display_data"
    }
   ],
   "source": [
    "x_values = pd.Series(range(0,len(orders['revenue'])))\n",
    "plt.scatter(x_values, orders['revenue'])\n",
    "plt.title('Точечный график стоимости заказов');"
   ]
  },
  {
   "cell_type": "markdown",
   "id": "7c84a604",
   "metadata": {},
   "source": [
    "Теперь посчитаем 95-й и 99-й перцентили стоимости заказов:"
   ]
  },
  {
   "cell_type": "code",
   "execution_count": 21,
   "id": "189ae607",
   "metadata": {},
   "outputs": [
    {
     "data": {
      "text/plain": [
       "array([28000. , 58233.2])"
      ]
     },
     "metadata": {},
     "output_type": "display_data"
    }
   ],
   "source": [
    "display(np.percentile(orders['revenue'], [95, 99]))"
   ]
  },
  {
   "cell_type": "markdown",
   "id": "6efe86c7",
   "metadata": {},
   "source": [
    "Итак, не больше 5% заказов дороже 28 000 и не более 1% - дороже 58233.\n",
    "\n",
    "Границей аномальных заказов можно принять 28 000"
   ]
  },
  {
   "cell_type": "markdown",
   "id": "244d00c0",
   "metadata": {},
   "source": [
    "### Cтатистическая значимость различий в конверсии между группами по «сырым» данным"
   ]
  },
  {
   "cell_type": "markdown",
   "id": "655ae44a",
   "metadata": {},
   "source": [
    "Посчитаем статистическую значимость различий в конверсии и среднем чеке между группами по «сырым» данным.\n",
    "\n",
    "Сформулируем гипотезы. Нулевая: различий в конверсии между группами нет. Альтернативная: различия в конверсии между группами есть.\n",
    "\n",
    "Для их проверки будем использовать критерий Манна-Уитни, а статистическую значимость установим на уровне 5% (0,05)\n",
    "\n",
    "Начнём с подготовки данных. "
   ]
  },
  {
   "cell_type": "code",
   "execution_count": 22,
   "id": "e7d4ff59",
   "metadata": {},
   "outputs": [
    {
     "name": "stdout",
     "output_type": "stream",
     "text": [
      "        date  ordersPerDateA  revenuePerDateA  ordersPerDateB  \\\n",
      "0 2019-08-01              24           148579              21   \n",
      "1 2019-08-02              20            93822              24   \n",
      "2 2019-08-03              24           112473              16   \n",
      "3 2019-08-04              16            70825              17   \n",
      "4 2019-08-05              25           124218              23   \n",
      "\n",
      "   revenuePerDateB  ordersCummulativeA  revenueCummulativeA  \\\n",
      "0           101217                  24               148579   \n",
      "1           165531                  44               242401   \n",
      "2           114248                  68               354874   \n",
      "3           108571                  84               425699   \n",
      "4            92428                 109               549917   \n",
      "\n",
      "   ordersCummulativeB  revenueCummulativeB  visitorsPerDateA  \\\n",
      "0                  21               101217               719   \n",
      "1                  45               266748               619   \n",
      "2                  61               380996               507   \n",
      "3                  78               489567               717   \n",
      "4                 101               581995               756   \n",
      "\n",
      "   visitorsPerDateB  visitorsCummulativeA  visitorsCummulativeB  \n",
      "0               713                   719                   713  \n",
      "1               581                  1338                  1294  \n",
      "2               509                  1845                  1803  \n",
      "3               770                  2562                  2573  \n",
      "4               707                  3318                  3280  \n"
     ]
    }
   ],
   "source": [
    "visitorsADaily = visitors[visitors['group'] == 'A'][['date', 'visitors']]\n",
    "visitorsADaily.columns = ['date', 'visitorsPerDateA']\n",
    "\n",
    "visitorsACummulative = visitorsADaily.apply(\n",
    "    lambda x: visitorsADaily[visitorsADaily['date'] <= x['date']].agg(\n",
    "        {'date': 'max', 'visitorsPerDateA': 'sum'}\n",
    "    ),\n",
    "    axis=1,\n",
    ")\n",
    "visitorsACummulative.columns = ['date', 'visitorsCummulativeA']\n",
    "\n",
    "visitorsBDaily = visitors[visitors['group'] == 'B'][['date', 'visitors']]\n",
    "visitorsBDaily.columns = ['date', 'visitorsPerDateB']\n",
    "\n",
    "visitorsBCummulative = visitorsBDaily.apply(\n",
    "    lambda x: visitorsBDaily[visitorsBDaily['date'] <= x['date']].agg(\n",
    "        {'date': 'max', 'visitorsPerDateB': 'sum'}\n",
    "    ),\n",
    "    axis=1,\n",
    ")\n",
    "visitorsBCummulative.columns = ['date', 'visitorsCummulativeB']\n",
    "\n",
    "ordersADaily = (\n",
    "    orders[orders['group'] == 'A'][['date', 'transactionId', 'visitorId', 'revenue']]\n",
    "    .groupby('date', as_index=False)\n",
    "    .agg({'transactionId': pd.Series.nunique, 'revenue': 'sum'})\n",
    ")\n",
    "ordersADaily.columns = ['date', 'ordersPerDateA', 'revenuePerDateA']\n",
    "\n",
    "ordersACummulative = ordersADaily.apply(\n",
    "    lambda x: ordersADaily[ordersADaily['date'] <= x['date']].agg(\n",
    "        {'date': 'max', 'ordersPerDateA': 'sum', 'revenuePerDateA': 'sum'}\n",
    "    ),\n",
    "    axis=1,\n",
    ").sort_values(by=['date'])\n",
    "ordersACummulative.columns = [\n",
    "    'date',\n",
    "    'ordersCummulativeA',\n",
    "    'revenueCummulativeA',\n",
    "]\n",
    "\n",
    "ordersBDaily = (\n",
    "    orders[orders['group'] == 'B'][['date', 'transactionId', 'visitorId', 'revenue']]\n",
    "    .groupby('date', as_index=False)\n",
    "    .agg({'transactionId': pd.Series.nunique, 'revenue': 'sum'})\n",
    ")\n",
    "ordersBDaily.columns = ['date', 'ordersPerDateB', 'revenuePerDateB']\n",
    "\n",
    "ordersBCummulative = ordersBDaily.apply(\n",
    "    lambda x: ordersBDaily[ordersBDaily['date'] <= x['date']].agg(\n",
    "        {'date': 'max', 'ordersPerDateB': 'sum', 'revenuePerDateB': 'sum'}\n",
    "    ),\n",
    "    axis=1,\n",
    ").sort_values(by=['date'])\n",
    "ordersBCummulative.columns = [\n",
    "    'date',\n",
    "    'ordersCummulativeB',\n",
    "    'revenueCummulativeB',\n",
    "]\n",
    "\n",
    "data = (\n",
    "    ordersADaily.merge(\n",
    "        ordersBDaily, left_on='date', right_on='date', how='left'\n",
    "    )\n",
    "    .merge(ordersACummulative, left_on='date', right_on='date', how='left')\n",
    "    .merge(ordersBCummulative, left_on='date', right_on='date', how='left')\n",
    "    .merge(visitorsADaily, left_on='date', right_on='date', how='left')\n",
    "    .merge(visitorsBDaily, left_on='date', right_on='date', how='left')\n",
    "    .merge(visitorsACummulative, left_on='date', right_on='date', how='left')\n",
    "    .merge(visitorsBCummulative, left_on='date', right_on='date', how='left')\n",
    ")\n",
    "\n",
    "print(data.head(5)) "
   ]
  },
  {
   "cell_type": "markdown",
   "id": "cc70782c",
   "metadata": {},
   "source": [
    "Воспользуемся критерием Манна-Уитни:"
   ]
  },
  {
   "cell_type": "code",
   "execution_count": 23,
   "id": "e6ae404a",
   "metadata": {},
   "outputs": [
    {
     "name": "stdout",
     "output_type": "stream",
     "text": [
      "p-value: 0.017\n",
      "Относительно изменение конверсии: 13.8%\n"
     ]
    }
   ],
   "source": [
    "ordersByUsersA = (\n",
    "    orders[orders['group'] == 'A']\n",
    "    .groupby('visitorId', as_index=False)\n",
    "    .agg({'transactionId': pd.Series.nunique})\n",
    ")\n",
    "ordersByUsersA.columns = ['visitorId', 'orders']\n",
    "\n",
    "ordersByUsersB = (\n",
    "    orders[orders['group'] == 'B']\n",
    "    .groupby('visitorId', as_index=False)\n",
    "    .agg({'transactionId': pd.Series.nunique})\n",
    ")\n",
    "ordersByUsersB.columns = ['visitorId', 'orders']\n",
    "\n",
    "sampleA = pd.concat(\n",
    "    [\n",
    "        ordersByUsersA['orders'],\n",
    "        pd.Series(\n",
    "            0,\n",
    "            index=np.arange(\n",
    "                data['visitorsPerDateA'].sum() - len(ordersByUsersA['orders'])\n",
    "            ),\n",
    "            name='orders',\n",
    "        ),\n",
    "    ],\n",
    "    axis=0,\n",
    ")\n",
    "\n",
    "sampleB = pd.concat(\n",
    "    [\n",
    "        ordersByUsersB['orders'],\n",
    "        pd.Series(\n",
    "            0,\n",
    "            index=np.arange(\n",
    "                data['visitorsPerDateB'].sum() - len(ordersByUsersB['orders'])\n",
    "            ),\n",
    "            name='orders',\n",
    "        ),\n",
    "    ],\n",
    "    axis=0,\n",
    ")\n",
    "\n",
    "print('p-value:', \"{0:.3f}\".format(st.mannwhitneyu(sampleA, sampleB)[1]))\n",
    "\n",
    "print(f\"Относительно изменение конверсии: {sampleB.mean() / sampleA.mean() - 1:.1%}\")"
   ]
  },
  {
   "cell_type": "markdown",
   "id": "48d67296",
   "metadata": {},
   "source": [
    "Полученное значение p-value меньше 0.05 говорит нам о том, что статистически значимые различия в конверсии между группами есть.\n",
    "\n",
    "А относительный выигрыш группы B равен 13.8%"
   ]
  },
  {
   "cell_type": "markdown",
   "id": "bc7cd19a",
   "metadata": {},
   "source": [
    "### Cтатистическая значимость различий в среднем чеке заказа между группами по «сырым» данным"
   ]
  },
  {
   "cell_type": "code",
   "execution_count": 25,
   "id": "b98155e5",
   "metadata": {},
   "outputs": [
    {
     "name": "stdout",
     "output_type": "stream",
     "text": [
      "p-value: 0.729\n",
      "0.259\n"
     ]
    }
   ],
   "source": [
    "print('p-value:', '{0:.3f}'.format(st.mannwhitneyu(orders[orders['group']=='A']['revenue'], \n",
    "                                                   orders[orders['group']=='B']['revenue'])[1]))\n",
    "print('{0:.3f}'.format(orders[orders['group']=='B']['revenue'].mean()/orders[orders['group']=='A']['revenue'].mean()-1))"
   ]
  },
  {
   "cell_type": "markdown",
   "id": "f6c87200",
   "metadata": {},
   "source": [
    "P-value значительно больше 0.05. Значит, причин отвергать нулевую гипотезу и считать, что в среднем чеке есть различия, нет. Впрочем, средний чек группы B значительно выше среднего чека группы A."
   ]
  },
  {
   "cell_type": "markdown",
   "id": "29d7f7ea",
   "metadata": {},
   "source": [
    "### Статистическая значимость различий в конверсии между группами по «очищенным» данным"
   ]
  },
  {
   "cell_type": "markdown",
   "id": "0c8b64e1",
   "metadata": {},
   "source": [
    "Примем за аномальных пользователей тех, кто совершил от 3 заказов или совершил заказ дороже 28 000 рублей. Так мы уберём 5% пользователей с наибольшим числом заказов и от 1% до 5% пользователей с дорогими заказами.\n",
    "\n",
    "Узнаем, сколько всего аномальных пользователей."
   ]
  },
  {
   "cell_type": "code",
   "execution_count": 26,
   "id": "de0c5655",
   "metadata": {},
   "outputs": [
    {
     "name": "stdout",
     "output_type": "stream",
     "text": [
      "Количество аномальных пользователей: (74,)\n"
     ]
    }
   ],
   "source": [
    "usersWithManyOrders = pd.concat(\n",
    "    [\n",
    "        ordersByUsersA[ordersByUsersA['orders'] > 2]['visitorId'],\n",
    "        ordersByUsersB[ordersByUsersB['orders'] > 2]['visitorId'],\n",
    "    ],\n",
    "    axis=0,\n",
    ")\n",
    "usersWithExpensiveOrders = orders[orders['revenue'] > 28000]['visitorId']\n",
    "abnormalUsers = (\n",
    "    pd.concat([usersWithManyOrders, usersWithExpensiveOrders], axis=0)\n",
    "    .drop_duplicates()\n",
    "    .sort_values()\n",
    ")\n",
    "\n",
    "print('Количество аномальных пользователей:', abnormalUsers.shape) "
   ]
  },
  {
   "cell_type": "markdown",
   "id": "234624b6",
   "metadata": {},
   "source": [
    "Узнаем, как их действия повлияли на результаты теста. Посчитаем статистическую значимость различий в конверсии между группами теста по очищенным данным. Сначала подготовим выборки количества заказов по пользователям по группам теста:"
   ]
  },
  {
   "cell_type": "code",
   "execution_count": 27,
   "id": "30f7253d",
   "metadata": {},
   "outputs": [],
   "source": [
    "sampleAFiltered = pd.concat(\n",
    "    [\n",
    "        ordersByUsersA[\n",
    "            np.logical_not(ordersByUsersA['visitorId'].isin(abnormalUsers))\n",
    "        ]['orders'],\n",
    "        pd.Series(\n",
    "            0,\n",
    "            index=np.arange(\n",
    "                data['visitorsPerDateA'].sum() - len(ordersByUsersA['orders'])\n",
    "            ),\n",
    "            name='orders',\n",
    "        ),\n",
    "    ],\n",
    "    axis=0,\n",
    ")\n",
    "\n",
    "sampleBFiltered = pd.concat(\n",
    "    [\n",
    "        ordersByUsersB[\n",
    "            np.logical_not(ordersByUsersB['visitorId'].isin(abnormalUsers))\n",
    "        ]['orders'],\n",
    "        pd.Series(\n",
    "            0,\n",
    "            index=np.arange(\n",
    "                data['visitorsPerDateB'].sum() - len(ordersByUsersB['orders'])\n",
    "            ),\n",
    "            name='orders',\n",
    "        ),\n",
    "    ],\n",
    "    axis=0,\n",
    ") "
   ]
  },
  {
   "cell_type": "code",
   "execution_count": 28,
   "id": "cd881140",
   "metadata": {},
   "outputs": [
    {
     "name": "stdout",
     "output_type": "stream",
     "text": [
      "p-value: 0.013\n",
      "Относительно изменение конверсии: 17.3%\n"
     ]
    }
   ],
   "source": [
    "print('p-value:', '{0:.3f}'.format(st.mannwhitneyu(sampleAFiltered, sampleBFiltered)[1]))\n",
    "\n",
    "print(f\"Относительно изменение конверсии: {sampleBFiltered.mean()/sampleAFiltered.mean()-1:.1%}\")"
   ]
  },
  {
   "cell_type": "markdown",
   "id": "87715916",
   "metadata": {},
   "source": [
    "Результаты по конверсии практически не изменились. Произошло ли что-нибудь с результатами по среднему чеку?"
   ]
  },
  {
   "cell_type": "markdown",
   "id": "8e0ce9e8",
   "metadata": {},
   "source": [
    "### Статистическая значимость различий в среднем чеке заказа между группами по «очищенным» данным"
   ]
  },
  {
   "cell_type": "code",
   "execution_count": 29,
   "id": "d6666744",
   "metadata": {
    "scrolled": true
   },
   "outputs": [
    {
     "name": "stdout",
     "output_type": "stream",
     "text": [
      "p-value: 0.738\n",
      "Относительно изменение конверсии:  -2.0%\n"
     ]
    }
   ],
   "source": [
    "print(\n",
    "    'p-value:', '{0:.3f}'.format(\n",
    "        st.mannwhitneyu(\n",
    "            orders[\n",
    "                np.logical_and(\n",
    "                    orders['group'] == 'A',\n",
    "                    np.logical_not(orders['visitorId'].isin(abnormalUsers)),\n",
    "                )\n",
    "            ]['revenue'],\n",
    "            orders[\n",
    "                np.logical_and(\n",
    "                    orders['group'] == 'B',\n",
    "                    np.logical_not(orders['visitorId'].isin(abnormalUsers)),\n",
    "                )\n",
    "            ]['revenue'],\n",
    "        )[1]\n",
    "    )\n",
    ")\n",
    "\n",
    "print(\n",
    "    'Относительно изменение конверсии: ',\"{0:.1%}\".format(\n",
    "        orders[\n",
    "            np.logical_and(\n",
    "                orders['group'] == 'B',\n",
    "                np.logical_not(orders['visitorId'].isin(abnormalUsers)),\n",
    "            )\n",
    "        ]['revenue'].mean()\n",
    "        / orders[\n",
    "            np.logical_and(\n",
    "                orders['group'] == 'A',\n",
    "                np.logical_not(orders['visitorId'].isin(abnormalUsers)),\n",
    "            )\n",
    "        ]['revenue'].mean()\n",
    "        - 1\n",
    "    )\n",
    ") "
   ]
  },
  {
   "cell_type": "markdown",
   "id": "f7891bca",
   "metadata": {},
   "source": [
    "P-value значительно больше 0.05, ещё и увеличился. Значит, причин отвергать нулевую гипотезу и считать, что в среднем чеке есть различия, нет. А вот средний чек группы B вдруг стал почти равен среднему чеку группы A."
   ]
  },
  {
   "cell_type": "markdown",
   "id": "3493d689",
   "metadata": {},
   "source": [
    "## Вывод"
   ]
  },
  {
   "cell_type": "markdown",
   "id": "31b42690",
   "metadata": {},
   "source": [
    "В этой работе мы \n",
    "- провели приоретизацию гипотез двумя методами;\n",
    "- использовали результаты А/В, проверили правильность разделения пользователей;\n",
    "- построили графики:\n",
    "        - кумулятивной выручки по группам\n",
    "        - кумулятивного среднего чека по группам\n",
    "        - относительного изменения кумулятивного среднего чека\n",
    "        - кумулятивной конверсии по группам\n",
    "        - относительного изменения кумулятивной конверсии\n",
    "        - количества заказов по пользователям\n",
    "        - стоимости заказов\n",
    "- сформулировали гипотезы и проверили их с помощью критерия Манна-Уитни\n",
    "\n",
    "\n",
    "Пришла пора принять решение по результатам теста. \n",
    "\n",
    "Варианты решений: \n",
    "1. Остановить тест, зафиксировать победу одной из групп. \n",
    "2. Остановить тест, зафиксировать отсутствие различий между группами. \n",
    "3. Продолжить тест."
   ]
  },
  {
   "cell_type": "markdown",
   "id": "6c9cc276",
   "metadata": {},
   "source": [
    "Как джун могу только порекомендовать остановить тест, признать его успешным, зафиксировав победу группы В. Так как хоть и очищенные данные по среднему чеку сравнялись с группой А, но выросла конверсия, а значит и количество самих заказов."
   ]
  },
  {
   "cell_type": "code",
   "execution_count": null,
   "id": "7996c3d8",
   "metadata": {},
   "outputs": [],
   "source": []
  }
 ],
 "metadata": {
  "ExecuteTimeLog": [
   {
    "duration": 1602,
    "start_time": "2022-04-19T18:23:08.213Z"
   },
   {
    "duration": 9,
    "start_time": "2022-04-19T18:23:09.817Z"
   },
   {
    "duration": 54,
    "start_time": "2022-04-19T18:23:09.829Z"
   },
   {
    "duration": 80,
    "start_time": "2022-04-19T18:23:09.886Z"
   },
   {
    "duration": 16,
    "start_time": "2022-04-19T18:23:09.969Z"
   },
   {
    "duration": 19,
    "start_time": "2022-04-19T18:23:09.987Z"
   },
   {
    "duration": 39,
    "start_time": "2022-04-19T18:23:10.051Z"
   },
   {
    "duration": 554,
    "start_time": "2022-04-19T18:23:10.092Z"
   },
   {
    "duration": 519,
    "start_time": "2022-04-19T18:23:10.652Z"
   },
   {
    "duration": 333,
    "start_time": "2022-04-19T18:23:11.174Z"
   },
   {
    "duration": 391,
    "start_time": "2022-04-19T18:31:02.936Z"
   },
   {
    "duration": 462,
    "start_time": "2022-04-19T18:31:18.120Z"
   },
   {
    "duration": 540,
    "start_time": "2022-04-19T18:31:27.512Z"
   },
   {
    "duration": 448,
    "start_time": "2022-04-19T18:32:50.865Z"
   },
   {
    "duration": 318,
    "start_time": "2022-04-19T18:33:55.518Z"
   },
   {
    "duration": 471,
    "start_time": "2022-04-19T18:34:08.110Z"
   },
   {
    "duration": 449,
    "start_time": "2022-04-19T18:35:26.085Z"
   },
   {
    "duration": 458,
    "start_time": "2022-04-19T18:35:49.201Z"
   },
   {
    "duration": 457,
    "start_time": "2022-04-19T18:36:08.430Z"
   },
   {
    "duration": 441,
    "start_time": "2022-04-19T18:36:22.893Z"
   },
   {
    "duration": 1315,
    "start_time": "2022-04-20T05:04:58.118Z"
   },
   {
    "duration": 6,
    "start_time": "2022-04-20T05:10:05.993Z"
   },
   {
    "duration": 37,
    "start_time": "2022-04-20T05:11:36.604Z"
   },
   {
    "duration": 54,
    "start_time": "2022-04-20T05:11:55.676Z"
   },
   {
    "duration": 5,
    "start_time": "2022-04-20T05:22:02.727Z"
   },
   {
    "duration": 42,
    "start_time": "2022-04-20T05:22:05.377Z"
   },
   {
    "duration": 38,
    "start_time": "2022-04-20T05:22:58.233Z"
   },
   {
    "duration": 25,
    "start_time": "2022-04-20T06:50:46.049Z"
   },
   {
    "duration": 279,
    "start_time": "2022-04-20T06:50:49.283Z"
   },
   {
    "duration": 112,
    "start_time": "2022-04-20T06:50:52.000Z"
   },
   {
    "duration": 309,
    "start_time": "2022-04-20T06:52:17.357Z"
   },
   {
    "duration": 282,
    "start_time": "2022-04-20T06:55:10.052Z"
   },
   {
    "duration": 278,
    "start_time": "2022-04-20T06:55:16.964Z"
   },
   {
    "duration": 214,
    "start_time": "2022-04-20T07:02:42.135Z"
   },
   {
    "duration": 364,
    "start_time": "2022-04-20T07:30:49.326Z"
   },
   {
    "duration": 294,
    "start_time": "2022-04-20T07:35:09.362Z"
   },
   {
    "duration": 304,
    "start_time": "2022-04-20T07:35:20.772Z"
   },
   {
    "duration": 199,
    "start_time": "2022-04-20T07:38:36.141Z"
   },
   {
    "duration": 298,
    "start_time": "2022-04-20T07:39:03.248Z"
   },
   {
    "duration": 185,
    "start_time": "2022-04-20T07:39:31.655Z"
   },
   {
    "duration": 216,
    "start_time": "2022-04-20T07:41:53.583Z"
   },
   {
    "duration": 325,
    "start_time": "2022-04-20T07:44:31.172Z"
   },
   {
    "duration": 312,
    "start_time": "2022-04-20T07:45:20.315Z"
   },
   {
    "duration": 170,
    "start_time": "2022-04-20T07:48:07.786Z"
   },
   {
    "duration": 188,
    "start_time": "2022-04-20T07:48:16.714Z"
   },
   {
    "duration": 187,
    "start_time": "2022-04-20T07:48:22.705Z"
   },
   {
    "duration": 214,
    "start_time": "2022-04-20T07:48:27.266Z"
   },
   {
    "duration": 202,
    "start_time": "2022-04-20T07:48:52.561Z"
   },
   {
    "duration": 193,
    "start_time": "2022-04-20T07:48:58.476Z"
   },
   {
    "duration": 84,
    "start_time": "2022-04-20T07:49:36.587Z"
   },
   {
    "duration": 385,
    "start_time": "2022-04-20T07:49:41.915Z"
   },
   {
    "duration": 185,
    "start_time": "2022-04-20T07:49:56.843Z"
   },
   {
    "duration": 191,
    "start_time": "2022-04-20T07:50:01.626Z"
   },
   {
    "duration": 369,
    "start_time": "2022-04-20T07:50:21.097Z"
   },
   {
    "duration": 273,
    "start_time": "2022-04-20T07:52:18.340Z"
   },
   {
    "duration": 263,
    "start_time": "2022-04-20T07:52:27.331Z"
   },
   {
    "duration": 245,
    "start_time": "2022-04-20T07:52:53.651Z"
   },
   {
    "duration": 345,
    "start_time": "2022-04-20T07:53:03.898Z"
   },
   {
    "duration": 309,
    "start_time": "2022-04-20T07:53:15.275Z"
   },
   {
    "duration": 295,
    "start_time": "2022-04-20T07:53:40.259Z"
   },
   {
    "duration": 323,
    "start_time": "2022-04-20T07:55:50.621Z"
   },
   {
    "duration": 371,
    "start_time": "2022-04-20T07:58:11.479Z"
   },
   {
    "duration": 391,
    "start_time": "2022-04-20T07:58:16.062Z"
   },
   {
    "duration": 192,
    "start_time": "2022-04-20T08:02:23.603Z"
   },
   {
    "duration": 200,
    "start_time": "2022-04-20T08:02:33.072Z"
   },
   {
    "duration": 296,
    "start_time": "2022-04-20T08:07:23.147Z"
   },
   {
    "duration": 217,
    "start_time": "2022-04-20T08:13:21.574Z"
   },
   {
    "duration": 225,
    "start_time": "2022-04-20T08:13:30.215Z"
   },
   {
    "duration": 124,
    "start_time": "2022-04-20T08:27:24.822Z"
   },
   {
    "duration": 139,
    "start_time": "2022-04-20T08:31:41.808Z"
   },
   {
    "duration": 122,
    "start_time": "2022-04-20T08:31:51.977Z"
   },
   {
    "duration": 121,
    "start_time": "2022-04-20T08:31:59.567Z"
   },
   {
    "duration": 119,
    "start_time": "2022-04-20T08:32:15.853Z"
   },
   {
    "duration": 9,
    "start_time": "2022-04-20T08:35:34.733Z"
   },
   {
    "duration": 12,
    "start_time": "2022-04-20T08:39:39.901Z"
   },
   {
    "duration": 103,
    "start_time": "2022-04-20T08:44:07.741Z"
   },
   {
    "duration": 6,
    "start_time": "2022-04-20T08:58:21.112Z"
   },
   {
    "duration": 203,
    "start_time": "2022-04-20T09:03:03.061Z"
   },
   {
    "duration": 112,
    "start_time": "2022-04-20T09:03:07.988Z"
   },
   {
    "duration": 127,
    "start_time": "2022-04-20T09:05:40.119Z"
   },
   {
    "duration": 4,
    "start_time": "2022-04-20T09:06:50.567Z"
   },
   {
    "duration": 6,
    "start_time": "2022-04-20T11:29:08.858Z"
   },
   {
    "duration": 103,
    "start_time": "2022-04-20T12:09:15.325Z"
   },
   {
    "duration": 204,
    "start_time": "2022-04-20T12:12:52.027Z"
   },
   {
    "duration": 147,
    "start_time": "2022-04-20T12:14:14.302Z"
   },
   {
    "duration": 159,
    "start_time": "2022-04-20T12:15:26.848Z"
   },
   {
    "duration": 151,
    "start_time": "2022-04-20T12:18:12.721Z"
   },
   {
    "duration": 148,
    "start_time": "2022-04-20T12:18:21.049Z"
   },
   {
    "duration": 10,
    "start_time": "2022-04-20T12:42:57.694Z"
   },
   {
    "duration": 9,
    "start_time": "2022-04-20T12:43:08.838Z"
   },
   {
    "duration": 10,
    "start_time": "2022-04-20T13:08:33.724Z"
   },
   {
    "duration": 12,
    "start_time": "2022-04-20T13:13:01.895Z"
   },
   {
    "duration": 9,
    "start_time": "2022-04-20T13:13:41.970Z"
   },
   {
    "duration": 8,
    "start_time": "2022-04-20T13:14:10.647Z"
   },
   {
    "duration": 22,
    "start_time": "2022-04-20T13:14:32.845Z"
   },
   {
    "duration": 11,
    "start_time": "2022-04-20T13:15:25.422Z"
   },
   {
    "duration": 13,
    "start_time": "2022-04-20T13:15:35.335Z"
   },
   {
    "duration": 1292,
    "start_time": "2022-04-20T16:31:16.924Z"
   },
   {
    "duration": 7,
    "start_time": "2022-04-20T16:31:18.218Z"
   },
   {
    "duration": 51,
    "start_time": "2022-04-20T16:31:18.227Z"
   },
   {
    "duration": 44,
    "start_time": "2022-04-20T16:31:18.280Z"
   },
   {
    "duration": 11,
    "start_time": "2022-04-20T16:31:18.331Z"
   },
   {
    "duration": 11,
    "start_time": "2022-04-20T16:31:18.343Z"
   },
   {
    "duration": 23,
    "start_time": "2022-04-20T16:31:18.355Z"
   },
   {
    "duration": 306,
    "start_time": "2022-04-20T16:31:18.379Z"
   },
   {
    "duration": 268,
    "start_time": "2022-04-20T16:31:18.687Z"
   },
   {
    "duration": 191,
    "start_time": "2022-04-20T16:31:18.959Z"
   },
   {
    "duration": 305,
    "start_time": "2022-04-20T16:31:19.152Z"
   },
   {
    "duration": 203,
    "start_time": "2022-04-20T16:31:19.459Z"
   },
   {
    "duration": 277,
    "start_time": "2022-04-20T16:31:19.664Z"
   },
   {
    "duration": 14,
    "start_time": "2022-04-20T16:31:19.943Z"
   },
   {
    "duration": 130,
    "start_time": "2022-04-20T16:31:19.959Z"
   },
   {
    "duration": 5,
    "start_time": "2022-04-20T16:31:20.090Z"
   },
   {
    "duration": 144,
    "start_time": "2022-04-20T16:31:20.097Z"
   },
   {
    "duration": 5,
    "start_time": "2022-04-20T16:31:20.243Z"
   },
   {
    "duration": 296,
    "start_time": "2022-04-20T16:31:20.249Z"
   },
   {
    "duration": 153,
    "start_time": "2022-04-20T16:31:20.547Z"
   },
   {
    "duration": 22,
    "start_time": "2022-04-20T16:31:20.702Z"
   },
   {
    "duration": 12,
    "start_time": "2022-04-20T16:31:20.728Z"
   },
   {
    "duration": 9,
    "start_time": "2022-04-20T16:31:20.742Z"
   },
   {
    "duration": 21,
    "start_time": "2022-04-20T16:31:20.753Z"
   },
   {
    "duration": 51,
    "start_time": "2022-04-20T16:31:20.776Z"
   },
   {
    "duration": 7,
    "start_time": "2022-04-20T16:31:20.829Z"
   },
   {
    "duration": 116,
    "start_time": "2022-04-20T16:43:59.384Z"
   },
   {
    "duration": 8,
    "start_time": "2022-04-20T16:46:08.490Z"
   },
   {
    "duration": 8,
    "start_time": "2022-04-20T16:46:30.647Z"
   },
   {
    "duration": 10,
    "start_time": "2022-04-20T16:47:20.851Z"
   },
   {
    "duration": 290,
    "start_time": "2022-04-20T16:47:49.486Z"
   },
   {
    "duration": 296,
    "start_time": "2022-04-20T16:48:15.394Z"
   },
   {
    "duration": 18,
    "start_time": "2022-04-20T16:52:03.849Z"
   },
   {
    "duration": 12,
    "start_time": "2022-04-20T16:54:55.386Z"
   },
   {
    "duration": 6,
    "start_time": "2022-04-20T17:06:23.859Z"
   },
   {
    "duration": 159,
    "start_time": "2022-04-20T17:09:54.207Z"
   },
   {
    "duration": 1101,
    "start_time": "2022-04-21T05:44:29.994Z"
   },
   {
    "duration": 5,
    "start_time": "2022-04-21T05:44:31.097Z"
   },
   {
    "duration": 44,
    "start_time": "2022-04-21T05:44:31.104Z"
   },
   {
    "duration": 44,
    "start_time": "2022-04-21T05:44:31.151Z"
   },
   {
    "duration": 10,
    "start_time": "2022-04-21T05:44:31.196Z"
   },
   {
    "duration": 17,
    "start_time": "2022-04-21T05:44:31.208Z"
   },
   {
    "duration": 28,
    "start_time": "2022-04-21T05:44:31.227Z"
   },
   {
    "duration": 5,
    "start_time": "2022-04-21T05:44:31.257Z"
   },
   {
    "duration": 297,
    "start_time": "2022-04-21T05:44:31.263Z"
   },
   {
    "duration": 278,
    "start_time": "2022-04-21T05:44:31.563Z"
   },
   {
    "duration": 188,
    "start_time": "2022-04-21T05:44:31.843Z"
   },
   {
    "duration": 297,
    "start_time": "2022-04-21T05:44:32.033Z"
   },
   {
    "duration": 206,
    "start_time": "2022-04-21T05:44:32.332Z"
   },
   {
    "duration": 298,
    "start_time": "2022-04-21T05:44:32.539Z"
   },
   {
    "duration": 13,
    "start_time": "2022-04-21T05:44:32.838Z"
   },
   {
    "duration": 138,
    "start_time": "2022-04-21T05:44:32.852Z"
   },
   {
    "duration": 5,
    "start_time": "2022-04-21T05:44:32.991Z"
   },
   {
    "duration": 130,
    "start_time": "2022-04-21T05:44:33.008Z"
   },
   {
    "duration": 5,
    "start_time": "2022-04-21T05:44:33.140Z"
   },
   {
    "duration": 298,
    "start_time": "2022-04-21T05:44:33.146Z"
   },
   {
    "duration": 145,
    "start_time": "2022-04-21T05:44:33.445Z"
   },
   {
    "duration": 21,
    "start_time": "2022-04-21T05:44:33.592Z"
   },
   {
    "duration": 7,
    "start_time": "2022-04-21T05:44:33.615Z"
   },
   {
    "duration": 7,
    "start_time": "2022-04-21T05:44:33.624Z"
   },
   {
    "duration": 22,
    "start_time": "2022-04-21T05:44:33.632Z"
   },
   {
    "duration": 12,
    "start_time": "2022-04-21T05:44:33.656Z"
   },
   {
    "duration": 4,
    "start_time": "2022-04-21T06:55:56.981Z"
   },
   {
    "duration": 1064,
    "start_time": "2022-04-22T10:58:13.722Z"
   },
   {
    "duration": 6,
    "start_time": "2022-04-22T10:58:17.282Z"
   },
   {
    "duration": 71,
    "start_time": "2022-04-22T10:58:24.906Z"
   },
   {
    "duration": 43,
    "start_time": "2022-04-22T10:58:30.355Z"
   },
   {
    "duration": 10,
    "start_time": "2022-04-22T10:59:03.426Z"
   },
   {
    "duration": 10,
    "start_time": "2022-04-22T10:59:07.857Z"
   },
   {
    "duration": 46,
    "start_time": "2022-04-22T10:59:27.490Z"
   },
   {
    "duration": 112,
    "start_time": "2022-04-22T10:59:42.449Z"
   },
   {
    "duration": 170,
    "start_time": "2022-04-22T11:00:39.851Z"
   },
   {
    "duration": 123,
    "start_time": "2022-04-22T11:03:54.199Z"
   },
   {
    "duration": 22,
    "start_time": "2022-04-22T11:05:44.174Z"
   },
   {
    "duration": 6,
    "start_time": "2022-04-22T11:05:48.072Z"
   },
   {
    "duration": 254,
    "start_time": "2022-04-22T11:05:56.375Z"
   },
   {
    "duration": 229,
    "start_time": "2022-04-22T11:05:59.877Z"
   },
   {
    "duration": 267,
    "start_time": "2022-04-22T11:06:10.015Z"
   },
   {
    "duration": 325,
    "start_time": "2022-04-22T11:06:14.142Z"
   },
   {
    "duration": 251,
    "start_time": "2022-04-22T11:06:19.463Z"
   },
   {
    "duration": 411,
    "start_time": "2022-04-22T11:06:23.143Z"
   },
   {
    "duration": 13,
    "start_time": "2022-04-22T11:06:50.408Z"
   },
   {
    "duration": 97,
    "start_time": "2022-04-22T11:06:53.957Z"
   },
   {
    "duration": 5,
    "start_time": "2022-04-22T11:09:02.480Z"
   },
   {
    "duration": 110,
    "start_time": "2022-04-22T11:09:05.352Z"
   },
   {
    "duration": 6,
    "start_time": "2022-04-22T11:09:09.409Z"
   },
   {
    "duration": 216,
    "start_time": "2022-04-22T11:17:20.757Z"
   },
   {
    "duration": 212,
    "start_time": "2022-04-22T11:17:25.831Z"
   },
   {
    "duration": 150,
    "start_time": "2022-04-22T11:17:28.886Z"
   },
   {
    "duration": 220,
    "start_time": "2022-04-22T11:25:08.677Z"
   },
   {
    "duration": 11,
    "start_time": "2022-04-22T11:27:21.155Z"
   },
   {
    "duration": 11,
    "start_time": "2022-04-22T11:27:24.754Z"
   },
   {
    "duration": 10,
    "start_time": "2022-04-22T11:27:28.299Z"
   },
   {
    "duration": 29,
    "start_time": "2022-04-22T11:28:16.796Z"
   },
   {
    "duration": 19,
    "start_time": "2022-04-22T11:28:28.172Z"
   },
   {
    "duration": 15,
    "start_time": "2022-04-22T11:29:08.932Z"
   },
   {
    "duration": 16,
    "start_time": "2022-04-22T11:29:32.987Z"
   },
   {
    "duration": 1123,
    "start_time": "2022-04-23T04:07:01.846Z"
   },
   {
    "duration": 5,
    "start_time": "2022-04-23T04:07:02.971Z"
   },
   {
    "duration": 69,
    "start_time": "2022-04-23T04:07:02.977Z"
   },
   {
    "duration": 40,
    "start_time": "2022-04-23T04:07:03.048Z"
   },
   {
    "duration": 9,
    "start_time": "2022-04-23T04:07:03.090Z"
   },
   {
    "duration": 10,
    "start_time": "2022-04-23T04:07:03.101Z"
   },
   {
    "duration": 45,
    "start_time": "2022-04-23T04:07:03.113Z"
   },
   {
    "duration": 142,
    "start_time": "2022-04-23T04:07:03.160Z"
   },
   {
    "duration": 23,
    "start_time": "2022-04-23T04:07:03.304Z"
   },
   {
    "duration": 5,
    "start_time": "2022-04-23T04:07:03.331Z"
   },
   {
    "duration": 275,
    "start_time": "2022-04-23T04:07:03.338Z"
   },
   {
    "duration": 246,
    "start_time": "2022-04-23T04:07:03.615Z"
   },
   {
    "duration": 174,
    "start_time": "2022-04-23T04:07:03.863Z"
   },
   {
    "duration": 250,
    "start_time": "2022-04-23T04:07:04.039Z"
   },
   {
    "duration": 184,
    "start_time": "2022-04-23T04:07:04.291Z"
   },
   {
    "duration": 297,
    "start_time": "2022-04-23T04:07:04.477Z"
   },
   {
    "duration": 25,
    "start_time": "2022-04-23T04:07:04.776Z"
   },
   {
    "duration": 109,
    "start_time": "2022-04-23T04:07:04.802Z"
   },
   {
    "duration": 4,
    "start_time": "2022-04-23T04:07:04.913Z"
   },
   {
    "duration": 188,
    "start_time": "2022-04-23T04:07:04.919Z"
   },
   {
    "duration": 4,
    "start_time": "2022-04-23T04:07:05.109Z"
   },
   {
    "duration": 207,
    "start_time": "2022-04-23T04:07:05.114Z"
   },
   {
    "duration": 143,
    "start_time": "2022-04-23T04:07:05.323Z"
   },
   {
    "duration": 4,
    "start_time": "2022-04-23T04:07:05.467Z"
   },
   {
    "duration": 12,
    "start_time": "2022-04-23T04:07:05.472Z"
   },
   {
    "duration": 19,
    "start_time": "2022-04-23T04:07:05.485Z"
   },
   {
    "duration": 7,
    "start_time": "2022-04-23T04:07:05.505Z"
   },
   {
    "duration": 19,
    "start_time": "2022-04-23T04:07:05.515Z"
   },
   {
    "duration": 11,
    "start_time": "2022-04-23T04:07:05.536Z"
   }
  ],
  "kernelspec": {
   "display_name": "Python 3 (ipykernel)",
   "language": "python",
   "name": "python3"
  },
  "language_info": {
   "codemirror_mode": {
    "name": "ipython",
    "version": 3
   },
   "file_extension": ".py",
   "mimetype": "text/x-python",
   "name": "python",
   "nbconvert_exporter": "python",
   "pygments_lexer": "ipython3",
   "version": "3.9.7"
  },
  "toc": {
   "base_numbering": 1,
   "nav_menu": {},
   "number_sections": true,
   "sideBar": true,
   "skip_h1_title": true,
   "title_cell": "Table of Contents",
   "title_sidebar": "Contents",
   "toc_cell": false,
   "toc_position": {
    "height": "calc(100% - 180px)",
    "left": "10px",
    "top": "150px",
    "width": "494.391px"
   },
   "toc_section_display": true,
   "toc_window_display": true
  }
 },
 "nbformat": 4,
 "nbformat_minor": 5
}
