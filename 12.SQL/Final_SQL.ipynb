{
 "cells": [
  {
   "cell_type": "markdown",
   "id": "bf7441be",
   "metadata": {},
   "source": [
    "Коронавирус застал мир врасплох, изменив привычный порядок вещей. \n",
    "\n",
    "Наша компания решила быть на волне и купила крупный сервис для чтения книг по подписке.\n",
    "\n",
    "<b> Постановка задачи </b>\n",
    "\n",
    "Наша задача — проанализировать базу данных. В ней — информация о книгах, издательствах, авторах, а также пользовательские обзоры книг. Это нужно для формулирования ценностного предложения продукта.\n",
    "\n",
    "<b> Нужно: </b>\n",
    "1. Посчитать, сколько книг вышло после 1 января 2000 года;\n",
    "2. Для каждой книги посчитать количество обзоров и среднюю оценку;\n",
    "3. Определить издательство, которое выпустило наибольшее число книг толще 50 страниц — так мы исключим из анализа брошюры;\n",
    "4. Определить автора с самой высокой средней оценкой книг, учитывая только книги с 50 и более оценками;\n",
    "5. Посчитайть среднее количество обзоров от пользователей, которые поставили больше 50 оценок."
   ]
  },
  {
   "cell_type": "markdown",
   "id": "2fc2efc8",
   "metadata": {},
   "source": [
    "## Импорт библиотек и данных"
   ]
  },
  {
   "cell_type": "code",
   "execution_count": 1,
   "id": "76dfe47c",
   "metadata": {},
   "outputs": [],
   "source": [
    "# импортируем библиотеки\n",
    "import pandas as pd\n",
    "from sqlalchemy import create_engine\n",
    "from termcolor import colored"
   ]
  },
  {
   "cell_type": "code",
   "execution_count": 2,
   "id": "505c8010",
   "metadata": {},
   "outputs": [],
   "source": [
    "# устанавливаем параметры\n",
    "db_config = {'user': 'praktikum_student', # имя пользователя\n",
    " 'pwd': 'Sdf4$2;d-d30pp', # пароль\n",
    " 'host': 'rc1b-wcoijxj3yxfsf3fs.mdb.yandexcloud.net',\n",
    " 'port': 6432, # порт подключения\n",
    " 'db': 'data-analyst-final-project-db'} # название базы данных\n",
    "connection_string = 'postgresql://{}:{}@{}:{}/{}'.format(db_config['user'],\n",
    " db_config['pwd'],\n",
    " db_config['host'],\n",
    " db_config['port'],\n",
    " db_config['db'])\n",
    "\n",
    "# сохраняем коннектор\n",
    "engine = create_engine(connection_string, connect_args={'sslmode':'require'}) "
   ]
  },
  {
   "cell_type": "code",
   "execution_count": 3,
   "id": "d8c11d94",
   "metadata": {},
   "outputs": [],
   "source": [
    "# Функция вызова\n",
    "def select(sql):\n",
    "    return pd.io.sql.read_sql(sql, con = engine)"
   ]
  },
  {
   "cell_type": "code",
   "execution_count": 4,
   "id": "d0506b77",
   "metadata": {},
   "outputs": [],
   "source": [
    "query_1 = '''\n",
    "SELECT * FROM books\n",
    "'''\n",
    "books = pd.io.sql.read_sql(query_1, con = engine)\n",
    "\n",
    "query_2 = '''\n",
    "SELECT * FROM authors\n",
    "'''\n",
    "authors = pd.io.sql.read_sql(query_2, con = engine)\n",
    "\n",
    "query_3 = '''\n",
    "SELECT * FROM publishers\n",
    "'''\n",
    "publishers = pd.io.sql.read_sql(query_3, con = engine)\n",
    "\n",
    "query_4 = '''\n",
    "SELECT * FROM ratings\n",
    "'''\n",
    "\n",
    "ratings = pd.io.sql.read_sql(query_4, con = engine)\n",
    "\n",
    "query_5 = '''\n",
    "SELECT * FROM reviews\n",
    "'''\n",
    "reviews = pd.io.sql.read_sql(query_5, con = engine)"
   ]
  },
  {
   "cell_type": "markdown",
   "id": "09a6d4f2",
   "metadata": {},
   "source": [
    "## Таблицы\n",
    "\n",
    "Выведем первые строки полученных таблиц"
   ]
  },
  {
   "cell_type": "code",
   "execution_count": 5,
   "id": "285c1cc8",
   "metadata": {},
   "outputs": [],
   "source": [
    "# Моя собственная функция для первичного анализа загружаемых таблиц\n",
    "# Чтобы сильно не удлинять, закоментил некоторые выводы.\n",
    "\n",
    "def base_info(df):\n",
    "    \n",
    "#    df.columns = [col.lower().replace(' ','_').replace('-','_') for col in df.columns]\n",
    "    \n",
    "    print(colored(\"Общая информация о таблице:\", \"blue\", attrs=['bold']))\n",
    "    print()\n",
    "    df.info()\n",
    "    print('*'*70)\n",
    "#    print(colored(\"Циферки:\", \"blue\", attrs=['bold']))\n",
    "#    display(df.describe().T)\n",
    "#    print('*'*70)\n",
    "    print(colored(\"Количество явных дубликатов: \", \"blue\", attrs=['bold']), df.duplicated().sum())\n",
    "    print('*'*70)\n",
    "    print(colored(\"Доли отсутствующих значений\", \"blue\", attrs=['bold']))\n",
    "    print(round(df.isna().mean() * 100, 2))\n",
    "    print('*'*70)\n",
    "#    if len(df.index) > 10:\n",
    "#            print(colored('Случайная выборка 10 строк таблицы:', \"blue\", attrs=['bold']))\n",
    "#            display(df.sample(n=10, random_state=10))\n",
    "#    else:\n",
    "#            print('Первые 10 строк таблицы:')\n",
    "#            display(df.head(10))"
   ]
  },
  {
   "cell_type": "code",
   "execution_count": 6,
   "id": "6ee2554a",
   "metadata": {
    "scrolled": false
   },
   "outputs": [
    {
     "data": {
      "text/html": [
       "<div>\n",
       "<style scoped>\n",
       "    .dataframe tbody tr th:only-of-type {\n",
       "        vertical-align: middle;\n",
       "    }\n",
       "\n",
       "    .dataframe tbody tr th {\n",
       "        vertical-align: top;\n",
       "    }\n",
       "\n",
       "    .dataframe thead th {\n",
       "        text-align: right;\n",
       "    }\n",
       "</style>\n",
       "<table border=\"1\" class=\"dataframe\">\n",
       "  <thead>\n",
       "    <tr style=\"text-align: right;\">\n",
       "      <th></th>\n",
       "      <th>book_id</th>\n",
       "      <th>author_id</th>\n",
       "      <th>title</th>\n",
       "      <th>num_pages</th>\n",
       "      <th>publication_date</th>\n",
       "      <th>publisher_id</th>\n",
       "    </tr>\n",
       "  </thead>\n",
       "  <tbody>\n",
       "    <tr>\n",
       "      <th>0</th>\n",
       "      <td>1</td>\n",
       "      <td>546</td>\n",
       "      <td>'Salem's Lot</td>\n",
       "      <td>594</td>\n",
       "      <td>2005-11-01</td>\n",
       "      <td>93</td>\n",
       "    </tr>\n",
       "    <tr>\n",
       "      <th>1</th>\n",
       "      <td>2</td>\n",
       "      <td>465</td>\n",
       "      <td>1 000 Places to See Before You Die</td>\n",
       "      <td>992</td>\n",
       "      <td>2003-05-22</td>\n",
       "      <td>336</td>\n",
       "    </tr>\n",
       "    <tr>\n",
       "      <th>2</th>\n",
       "      <td>3</td>\n",
       "      <td>407</td>\n",
       "      <td>13 Little Blue Envelopes (Little Blue Envelope...</td>\n",
       "      <td>322</td>\n",
       "      <td>2010-12-21</td>\n",
       "      <td>135</td>\n",
       "    </tr>\n",
       "    <tr>\n",
       "      <th>3</th>\n",
       "      <td>4</td>\n",
       "      <td>82</td>\n",
       "      <td>1491: New Revelations of the Americas Before C...</td>\n",
       "      <td>541</td>\n",
       "      <td>2006-10-10</td>\n",
       "      <td>309</td>\n",
       "    </tr>\n",
       "    <tr>\n",
       "      <th>4</th>\n",
       "      <td>5</td>\n",
       "      <td>125</td>\n",
       "      <td>1776</td>\n",
       "      <td>386</td>\n",
       "      <td>2006-07-04</td>\n",
       "      <td>268</td>\n",
       "    </tr>\n",
       "  </tbody>\n",
       "</table>\n",
       "</div>"
      ],
      "text/plain": [
       "   book_id  author_id                                              title  \\\n",
       "0        1        546                                       'Salem's Lot   \n",
       "1        2        465                 1 000 Places to See Before You Die   \n",
       "2        3        407  13 Little Blue Envelopes (Little Blue Envelope...   \n",
       "3        4         82  1491: New Revelations of the Americas Before C...   \n",
       "4        5        125                                               1776   \n",
       "\n",
       "   num_pages publication_date  publisher_id  \n",
       "0        594       2005-11-01            93  \n",
       "1        992       2003-05-22           336  \n",
       "2        322       2010-12-21           135  \n",
       "3        541       2006-10-10           309  \n",
       "4        386       2006-07-04           268  "
      ]
     },
     "execution_count": 6,
     "metadata": {},
     "output_type": "execute_result"
    }
   ],
   "source": [
    "books.head()"
   ]
  },
  {
   "cell_type": "code",
   "execution_count": 7,
   "id": "d6b3324a",
   "metadata": {
    "scrolled": false
   },
   "outputs": [
    {
     "data": {
      "text/html": [
       "<div>\n",
       "<style scoped>\n",
       "    .dataframe tbody tr th:only-of-type {\n",
       "        vertical-align: middle;\n",
       "    }\n",
       "\n",
       "    .dataframe tbody tr th {\n",
       "        vertical-align: top;\n",
       "    }\n",
       "\n",
       "    .dataframe thead th {\n",
       "        text-align: right;\n",
       "    }\n",
       "</style>\n",
       "<table border=\"1\" class=\"dataframe\">\n",
       "  <thead>\n",
       "    <tr style=\"text-align: right;\">\n",
       "      <th></th>\n",
       "      <th>author_id</th>\n",
       "      <th>author</th>\n",
       "    </tr>\n",
       "  </thead>\n",
       "  <tbody>\n",
       "    <tr>\n",
       "      <th>0</th>\n",
       "      <td>1</td>\n",
       "      <td>A.S. Byatt</td>\n",
       "    </tr>\n",
       "    <tr>\n",
       "      <th>1</th>\n",
       "      <td>2</td>\n",
       "      <td>Aesop/Laura Harris/Laura Gibbs</td>\n",
       "    </tr>\n",
       "    <tr>\n",
       "      <th>2</th>\n",
       "      <td>3</td>\n",
       "      <td>Agatha Christie</td>\n",
       "    </tr>\n",
       "    <tr>\n",
       "      <th>3</th>\n",
       "      <td>4</td>\n",
       "      <td>Alan Brennert</td>\n",
       "    </tr>\n",
       "    <tr>\n",
       "      <th>4</th>\n",
       "      <td>5</td>\n",
       "      <td>Alan Moore/David   Lloyd</td>\n",
       "    </tr>\n",
       "  </tbody>\n",
       "</table>\n",
       "</div>"
      ],
      "text/plain": [
       "   author_id                          author\n",
       "0          1                      A.S. Byatt\n",
       "1          2  Aesop/Laura Harris/Laura Gibbs\n",
       "2          3                 Agatha Christie\n",
       "3          4                   Alan Brennert\n",
       "4          5        Alan Moore/David   Lloyd"
      ]
     },
     "execution_count": 7,
     "metadata": {},
     "output_type": "execute_result"
    }
   ],
   "source": [
    "authors.head()"
   ]
  },
  {
   "cell_type": "code",
   "execution_count": 8,
   "id": "2c6bdbf1",
   "metadata": {},
   "outputs": [
    {
     "data": {
      "text/html": [
       "<div>\n",
       "<style scoped>\n",
       "    .dataframe tbody tr th:only-of-type {\n",
       "        vertical-align: middle;\n",
       "    }\n",
       "\n",
       "    .dataframe tbody tr th {\n",
       "        vertical-align: top;\n",
       "    }\n",
       "\n",
       "    .dataframe thead th {\n",
       "        text-align: right;\n",
       "    }\n",
       "</style>\n",
       "<table border=\"1\" class=\"dataframe\">\n",
       "  <thead>\n",
       "    <tr style=\"text-align: right;\">\n",
       "      <th></th>\n",
       "      <th>publisher_id</th>\n",
       "      <th>publisher</th>\n",
       "    </tr>\n",
       "  </thead>\n",
       "  <tbody>\n",
       "    <tr>\n",
       "      <th>0</th>\n",
       "      <td>1</td>\n",
       "      <td>Ace</td>\n",
       "    </tr>\n",
       "    <tr>\n",
       "      <th>1</th>\n",
       "      <td>2</td>\n",
       "      <td>Ace Book</td>\n",
       "    </tr>\n",
       "    <tr>\n",
       "      <th>2</th>\n",
       "      <td>3</td>\n",
       "      <td>Ace Books</td>\n",
       "    </tr>\n",
       "    <tr>\n",
       "      <th>3</th>\n",
       "      <td>4</td>\n",
       "      <td>Ace Hardcover</td>\n",
       "    </tr>\n",
       "    <tr>\n",
       "      <th>4</th>\n",
       "      <td>5</td>\n",
       "      <td>Addison Wesley Publishing Company</td>\n",
       "    </tr>\n",
       "  </tbody>\n",
       "</table>\n",
       "</div>"
      ],
      "text/plain": [
       "   publisher_id                          publisher\n",
       "0             1                                Ace\n",
       "1             2                           Ace Book\n",
       "2             3                          Ace Books\n",
       "3             4                      Ace Hardcover\n",
       "4             5  Addison Wesley Publishing Company"
      ]
     },
     "execution_count": 8,
     "metadata": {},
     "output_type": "execute_result"
    }
   ],
   "source": [
    "publishers.head()"
   ]
  },
  {
   "cell_type": "code",
   "execution_count": 9,
   "id": "d6f80dce",
   "metadata": {},
   "outputs": [
    {
     "data": {
      "text/html": [
       "<div>\n",
       "<style scoped>\n",
       "    .dataframe tbody tr th:only-of-type {\n",
       "        vertical-align: middle;\n",
       "    }\n",
       "\n",
       "    .dataframe tbody tr th {\n",
       "        vertical-align: top;\n",
       "    }\n",
       "\n",
       "    .dataframe thead th {\n",
       "        text-align: right;\n",
       "    }\n",
       "</style>\n",
       "<table border=\"1\" class=\"dataframe\">\n",
       "  <thead>\n",
       "    <tr style=\"text-align: right;\">\n",
       "      <th></th>\n",
       "      <th>rating_id</th>\n",
       "      <th>book_id</th>\n",
       "      <th>username</th>\n",
       "      <th>rating</th>\n",
       "    </tr>\n",
       "  </thead>\n",
       "  <tbody>\n",
       "    <tr>\n",
       "      <th>0</th>\n",
       "      <td>1</td>\n",
       "      <td>1</td>\n",
       "      <td>ryanfranco</td>\n",
       "      <td>4</td>\n",
       "    </tr>\n",
       "    <tr>\n",
       "      <th>1</th>\n",
       "      <td>2</td>\n",
       "      <td>1</td>\n",
       "      <td>grantpatricia</td>\n",
       "      <td>2</td>\n",
       "    </tr>\n",
       "    <tr>\n",
       "      <th>2</th>\n",
       "      <td>3</td>\n",
       "      <td>1</td>\n",
       "      <td>brandtandrea</td>\n",
       "      <td>5</td>\n",
       "    </tr>\n",
       "    <tr>\n",
       "      <th>3</th>\n",
       "      <td>4</td>\n",
       "      <td>2</td>\n",
       "      <td>lorichen</td>\n",
       "      <td>3</td>\n",
       "    </tr>\n",
       "    <tr>\n",
       "      <th>4</th>\n",
       "      <td>5</td>\n",
       "      <td>2</td>\n",
       "      <td>mariokeller</td>\n",
       "      <td>2</td>\n",
       "    </tr>\n",
       "  </tbody>\n",
       "</table>\n",
       "</div>"
      ],
      "text/plain": [
       "   rating_id  book_id       username  rating\n",
       "0          1        1     ryanfranco       4\n",
       "1          2        1  grantpatricia       2\n",
       "2          3        1   brandtandrea       5\n",
       "3          4        2       lorichen       3\n",
       "4          5        2    mariokeller       2"
      ]
     },
     "execution_count": 9,
     "metadata": {},
     "output_type": "execute_result"
    }
   ],
   "source": [
    "ratings.head()"
   ]
  },
  {
   "cell_type": "code",
   "execution_count": 10,
   "id": "8553a4d3",
   "metadata": {},
   "outputs": [
    {
     "data": {
      "text/html": [
       "<div>\n",
       "<style scoped>\n",
       "    .dataframe tbody tr th:only-of-type {\n",
       "        vertical-align: middle;\n",
       "    }\n",
       "\n",
       "    .dataframe tbody tr th {\n",
       "        vertical-align: top;\n",
       "    }\n",
       "\n",
       "    .dataframe thead th {\n",
       "        text-align: right;\n",
       "    }\n",
       "</style>\n",
       "<table border=\"1\" class=\"dataframe\">\n",
       "  <thead>\n",
       "    <tr style=\"text-align: right;\">\n",
       "      <th></th>\n",
       "      <th>review_id</th>\n",
       "      <th>book_id</th>\n",
       "      <th>username</th>\n",
       "      <th>text</th>\n",
       "    </tr>\n",
       "  </thead>\n",
       "  <tbody>\n",
       "    <tr>\n",
       "      <th>0</th>\n",
       "      <td>1</td>\n",
       "      <td>1</td>\n",
       "      <td>brandtandrea</td>\n",
       "      <td>Mention society tell send professor analysis. ...</td>\n",
       "    </tr>\n",
       "    <tr>\n",
       "      <th>1</th>\n",
       "      <td>2</td>\n",
       "      <td>1</td>\n",
       "      <td>ryanfranco</td>\n",
       "      <td>Foot glass pretty audience hit themselves. Amo...</td>\n",
       "    </tr>\n",
       "    <tr>\n",
       "      <th>2</th>\n",
       "      <td>3</td>\n",
       "      <td>2</td>\n",
       "      <td>lorichen</td>\n",
       "      <td>Listen treat keep worry. Miss husband tax but ...</td>\n",
       "    </tr>\n",
       "    <tr>\n",
       "      <th>3</th>\n",
       "      <td>4</td>\n",
       "      <td>3</td>\n",
       "      <td>johnsonamanda</td>\n",
       "      <td>Finally month interesting blue could nature cu...</td>\n",
       "    </tr>\n",
       "    <tr>\n",
       "      <th>4</th>\n",
       "      <td>5</td>\n",
       "      <td>3</td>\n",
       "      <td>scotttamara</td>\n",
       "      <td>Nation purpose heavy give wait song will. List...</td>\n",
       "    </tr>\n",
       "  </tbody>\n",
       "</table>\n",
       "</div>"
      ],
      "text/plain": [
       "   review_id  book_id       username  \\\n",
       "0          1        1   brandtandrea   \n",
       "1          2        1     ryanfranco   \n",
       "2          3        2       lorichen   \n",
       "3          4        3  johnsonamanda   \n",
       "4          5        3    scotttamara   \n",
       "\n",
       "                                                text  \n",
       "0  Mention society tell send professor analysis. ...  \n",
       "1  Foot glass pretty audience hit themselves. Amo...  \n",
       "2  Listen treat keep worry. Miss husband tax but ...  \n",
       "3  Finally month interesting blue could nature cu...  \n",
       "4  Nation purpose heavy give wait song will. List...  "
      ]
     },
     "execution_count": 10,
     "metadata": {},
     "output_type": "execute_result"
    }
   ],
   "source": [
    "reviews.head()"
   ]
  },
  {
   "cell_type": "markdown",
   "id": "36f8fbd7",
   "metadata": {},
   "source": [
    "### Предварительный анализ\n",
    "Посмотрим на загруженные таблице более детально:"
   ]
  },
  {
   "cell_type": "code",
   "execution_count": 11,
   "id": "7494a67f",
   "metadata": {},
   "outputs": [
    {
     "name": "stdout",
     "output_type": "stream",
     "text": [
      "\u001b[1m\u001b[34mОбщая информация о таблице:\u001b[0m\n",
      "\n",
      "<class 'pandas.core.frame.DataFrame'>\n",
      "RangeIndex: 1000 entries, 0 to 999\n",
      "Data columns (total 6 columns):\n",
      " #   Column            Non-Null Count  Dtype \n",
      "---  ------            --------------  ----- \n",
      " 0   book_id           1000 non-null   int64 \n",
      " 1   author_id         1000 non-null   int64 \n",
      " 2   title             1000 non-null   object\n",
      " 3   num_pages         1000 non-null   int64 \n",
      " 4   publication_date  1000 non-null   object\n",
      " 5   publisher_id      1000 non-null   int64 \n",
      "dtypes: int64(4), object(2)\n",
      "memory usage: 47.0+ KB\n",
      "**********************************************************************\n",
      "\u001b[1m\u001b[34mКоличество явных дубликатов: \u001b[0m 0\n",
      "**********************************************************************\n",
      "\u001b[1m\u001b[34mДоли отсутствующих значений\u001b[0m\n",
      "book_id             0.0\n",
      "author_id           0.0\n",
      "title               0.0\n",
      "num_pages           0.0\n",
      "publication_date    0.0\n",
      "publisher_id        0.0\n",
      "dtype: float64\n",
      "**********************************************************************\n"
     ]
    }
   ],
   "source": [
    "base_info(books)"
   ]
  },
  {
   "cell_type": "code",
   "execution_count": 12,
   "id": "3d5a61c9",
   "metadata": {},
   "outputs": [
    {
     "name": "stdout",
     "output_type": "stream",
     "text": [
      "\u001b[1m\u001b[34mОбщая информация о таблице:\u001b[0m\n",
      "\n",
      "<class 'pandas.core.frame.DataFrame'>\n",
      "RangeIndex: 636 entries, 0 to 635\n",
      "Data columns (total 2 columns):\n",
      " #   Column     Non-Null Count  Dtype \n",
      "---  ------     --------------  ----- \n",
      " 0   author_id  636 non-null    int64 \n",
      " 1   author     636 non-null    object\n",
      "dtypes: int64(1), object(1)\n",
      "memory usage: 10.1+ KB\n",
      "**********************************************************************\n",
      "\u001b[1m\u001b[34mКоличество явных дубликатов: \u001b[0m 0\n",
      "**********************************************************************\n",
      "\u001b[1m\u001b[34mДоли отсутствующих значений\u001b[0m\n",
      "author_id    0.0\n",
      "author       0.0\n",
      "dtype: float64\n",
      "**********************************************************************\n"
     ]
    }
   ],
   "source": [
    "base_info(authors)"
   ]
  },
  {
   "cell_type": "code",
   "execution_count": 13,
   "id": "443cab8c",
   "metadata": {},
   "outputs": [
    {
     "name": "stdout",
     "output_type": "stream",
     "text": [
      "\u001b[1m\u001b[34mОбщая информация о таблице:\u001b[0m\n",
      "\n",
      "<class 'pandas.core.frame.DataFrame'>\n",
      "RangeIndex: 340 entries, 0 to 339\n",
      "Data columns (total 2 columns):\n",
      " #   Column        Non-Null Count  Dtype \n",
      "---  ------        --------------  ----- \n",
      " 0   publisher_id  340 non-null    int64 \n",
      " 1   publisher     340 non-null    object\n",
      "dtypes: int64(1), object(1)\n",
      "memory usage: 5.4+ KB\n",
      "**********************************************************************\n",
      "\u001b[1m\u001b[34mКоличество явных дубликатов: \u001b[0m 0\n",
      "**********************************************************************\n",
      "\u001b[1m\u001b[34mДоли отсутствующих значений\u001b[0m\n",
      "publisher_id    0.0\n",
      "publisher       0.0\n",
      "dtype: float64\n",
      "**********************************************************************\n"
     ]
    }
   ],
   "source": [
    "base_info(publishers)"
   ]
  },
  {
   "cell_type": "code",
   "execution_count": 14,
   "id": "f78c1e7a",
   "metadata": {
    "scrolled": false
   },
   "outputs": [
    {
     "name": "stdout",
     "output_type": "stream",
     "text": [
      "\u001b[1m\u001b[34mОбщая информация о таблице:\u001b[0m\n",
      "\n",
      "<class 'pandas.core.frame.DataFrame'>\n",
      "RangeIndex: 6456 entries, 0 to 6455\n",
      "Data columns (total 4 columns):\n",
      " #   Column     Non-Null Count  Dtype \n",
      "---  ------     --------------  ----- \n",
      " 0   rating_id  6456 non-null   int64 \n",
      " 1   book_id    6456 non-null   int64 \n",
      " 2   username   6456 non-null   object\n",
      " 3   rating     6456 non-null   int64 \n",
      "dtypes: int64(3), object(1)\n",
      "memory usage: 201.9+ KB\n",
      "**********************************************************************\n",
      "\u001b[1m\u001b[34mКоличество явных дубликатов: \u001b[0m 0\n",
      "**********************************************************************\n",
      "\u001b[1m\u001b[34mДоли отсутствующих значений\u001b[0m\n",
      "rating_id    0.0\n",
      "book_id      0.0\n",
      "username     0.0\n",
      "rating       0.0\n",
      "dtype: float64\n",
      "**********************************************************************\n"
     ]
    }
   ],
   "source": [
    "base_info(ratings)"
   ]
  },
  {
   "cell_type": "code",
   "execution_count": 15,
   "id": "e2723a7c",
   "metadata": {},
   "outputs": [
    {
     "data": {
      "text/plain": [
       "1000"
      ]
     },
     "execution_count": 15,
     "metadata": {},
     "output_type": "execute_result"
    }
   ],
   "source": [
    "ratings.book_id.nunique()"
   ]
  },
  {
   "cell_type": "code",
   "execution_count": 16,
   "id": "af9657e4",
   "metadata": {
    "scrolled": false
   },
   "outputs": [
    {
     "name": "stdout",
     "output_type": "stream",
     "text": [
      "\u001b[1m\u001b[34mОбщая информация о таблице:\u001b[0m\n",
      "\n",
      "<class 'pandas.core.frame.DataFrame'>\n",
      "RangeIndex: 2793 entries, 0 to 2792\n",
      "Data columns (total 4 columns):\n",
      " #   Column     Non-Null Count  Dtype \n",
      "---  ------     --------------  ----- \n",
      " 0   review_id  2793 non-null   int64 \n",
      " 1   book_id    2793 non-null   int64 \n",
      " 2   username   2793 non-null   object\n",
      " 3   text       2793 non-null   object\n",
      "dtypes: int64(2), object(2)\n",
      "memory usage: 87.4+ KB\n",
      "**********************************************************************\n",
      "\u001b[1m\u001b[34mКоличество явных дубликатов: \u001b[0m 0\n",
      "**********************************************************************\n",
      "\u001b[1m\u001b[34mДоли отсутствующих значений\u001b[0m\n",
      "review_id    0.0\n",
      "book_id      0.0\n",
      "username     0.0\n",
      "text         0.0\n",
      "dtype: float64\n",
      "**********************************************************************\n"
     ]
    }
   ],
   "source": [
    "base_info(reviews)"
   ]
  },
  {
   "cell_type": "code",
   "execution_count": 17,
   "id": "0e7541e8",
   "metadata": {},
   "outputs": [
    {
     "data": {
      "text/plain": [
       "994"
      ]
     },
     "execution_count": 17,
     "metadata": {},
     "output_type": "execute_result"
    }
   ],
   "source": [
    "reviews.book_id.nunique()"
   ]
  },
  {
   "cell_type": "markdown",
   "id": "09570c7f",
   "metadata": {},
   "source": [
    "### Вывод:\n",
    "\n",
    "Итак у нас есть датасет с 1000 книг от 636 авторов, выпущенными 340 издателями. Что порадовало, так это отсутствие пропусков и явных дубликатов во всех таблицах. А вот рецензии есть не на все книги."
   ]
  },
  {
   "cell_type": "markdown",
   "id": "fb42a3ae",
   "metadata": {},
   "source": [
    "## Решение задач"
   ]
  },
  {
   "cell_type": "markdown",
   "id": "9c5c4c04",
   "metadata": {},
   "source": [
    "### Количество книг, вышедших после 1 января 2000 года"
   ]
  },
  {
   "cell_type": "code",
   "execution_count": 18,
   "id": "c9f0a94a",
   "metadata": {},
   "outputs": [
    {
     "data": {
      "text/html": [
       "<div>\n",
       "<style scoped>\n",
       "    .dataframe tbody tr th:only-of-type {\n",
       "        vertical-align: middle;\n",
       "    }\n",
       "\n",
       "    .dataframe tbody tr th {\n",
       "        vertical-align: top;\n",
       "    }\n",
       "\n",
       "    .dataframe thead th {\n",
       "        text-align: right;\n",
       "    }\n",
       "</style>\n",
       "<table border=\"1\" class=\"dataframe\">\n",
       "  <thead>\n",
       "    <tr style=\"text-align: right;\">\n",
       "      <th></th>\n",
       "      <th>books_count</th>\n",
       "    </tr>\n",
       "  </thead>\n",
       "  <tbody>\n",
       "    <tr>\n",
       "      <th>0</th>\n",
       "      <td>819</td>\n",
       "    </tr>\n",
       "  </tbody>\n",
       "</table>\n",
       "</div>"
      ],
      "text/plain": [
       "   books_count\n",
       "0          819"
      ]
     },
     "execution_count": 18,
     "metadata": {},
     "output_type": "execute_result"
    }
   ],
   "source": [
    "books_count = '''\n",
    "SELECT COUNT(book_id) AS books_count FROM books WHERE publication_date > '2000-01-01'\n",
    "'''\n",
    "select(books_count)"
   ]
  },
  {
   "cell_type": "markdown",
   "id": "a4e9c6c3",
   "metadata": {},
   "source": [
    "ПОСЛЕ 1 января 2020 вышло 819 книг"
   ]
  },
  {
   "cell_type": "markdown",
   "id": "bb29c8c9",
   "metadata": {},
   "source": [
    "### Количество обзоров и средняя оценка"
   ]
  },
  {
   "cell_type": "code",
   "execution_count": 19,
   "id": "24e5301c",
   "metadata": {
    "scrolled": false
   },
   "outputs": [
    {
     "data": {
      "text/html": [
       "<div>\n",
       "<style scoped>\n",
       "    .dataframe tbody tr th:only-of-type {\n",
       "        vertical-align: middle;\n",
       "    }\n",
       "\n",
       "    .dataframe tbody tr th {\n",
       "        vertical-align: top;\n",
       "    }\n",
       "\n",
       "    .dataframe thead th {\n",
       "        text-align: right;\n",
       "    }\n",
       "</style>\n",
       "<table border=\"1\" class=\"dataframe\">\n",
       "  <thead>\n",
       "    <tr style=\"text-align: right;\">\n",
       "      <th></th>\n",
       "      <th>title</th>\n",
       "      <th>id</th>\n",
       "      <th>avg_rating</th>\n",
       "      <th>count_reviews</th>\n",
       "    </tr>\n",
       "  </thead>\n",
       "  <tbody>\n",
       "    <tr>\n",
       "      <th>0</th>\n",
       "      <td>Twilight (Twilight  #1)</td>\n",
       "      <td>948</td>\n",
       "      <td>3.662500</td>\n",
       "      <td>7</td>\n",
       "    </tr>\n",
       "    <tr>\n",
       "      <th>1</th>\n",
       "      <td>Water for Elephants</td>\n",
       "      <td>963</td>\n",
       "      <td>3.977273</td>\n",
       "      <td>6</td>\n",
       "    </tr>\n",
       "    <tr>\n",
       "      <th>2</th>\n",
       "      <td>The Glass Castle</td>\n",
       "      <td>734</td>\n",
       "      <td>4.206897</td>\n",
       "      <td>6</td>\n",
       "    </tr>\n",
       "    <tr>\n",
       "      <th>3</th>\n",
       "      <td>Harry Potter and the Prisoner of Azkaban (Harr...</td>\n",
       "      <td>302</td>\n",
       "      <td>4.414634</td>\n",
       "      <td>6</td>\n",
       "    </tr>\n",
       "    <tr>\n",
       "      <th>4</th>\n",
       "      <td>The Curious Incident of the Dog in the Night-Time</td>\n",
       "      <td>695</td>\n",
       "      <td>4.081081</td>\n",
       "      <td>6</td>\n",
       "    </tr>\n",
       "    <tr>\n",
       "      <th>...</th>\n",
       "      <td>...</td>\n",
       "      <td>...</td>\n",
       "      <td>...</td>\n",
       "      <td>...</td>\n",
       "    </tr>\n",
       "    <tr>\n",
       "      <th>995</th>\n",
       "      <td>Anne Rice's The Vampire Lestat: A Graphic Novel</td>\n",
       "      <td>83</td>\n",
       "      <td>3.666667</td>\n",
       "      <td>0</td>\n",
       "    </tr>\n",
       "    <tr>\n",
       "      <th>996</th>\n",
       "      <td>The Natural Way to Draw</td>\n",
       "      <td>808</td>\n",
       "      <td>3.000000</td>\n",
       "      <td>0</td>\n",
       "    </tr>\n",
       "    <tr>\n",
       "      <th>997</th>\n",
       "      <td>The Cat in the Hat and Other Dr. Seuss Favorites</td>\n",
       "      <td>672</td>\n",
       "      <td>5.000000</td>\n",
       "      <td>0</td>\n",
       "    </tr>\n",
       "    <tr>\n",
       "      <th>998</th>\n",
       "      <td>Essential Tales and Poems</td>\n",
       "      <td>221</td>\n",
       "      <td>4.000000</td>\n",
       "      <td>0</td>\n",
       "    </tr>\n",
       "    <tr>\n",
       "      <th>999</th>\n",
       "      <td>Disney's Beauty and the Beast (A Little Golden...</td>\n",
       "      <td>191</td>\n",
       "      <td>4.000000</td>\n",
       "      <td>0</td>\n",
       "    </tr>\n",
       "  </tbody>\n",
       "</table>\n",
       "<p>1000 rows × 4 columns</p>\n",
       "</div>"
      ],
      "text/plain": [
       "                                                 title   id  avg_rating  \\\n",
       "0                              Twilight (Twilight  #1)  948    3.662500   \n",
       "1                                  Water for Elephants  963    3.977273   \n",
       "2                                     The Glass Castle  734    4.206897   \n",
       "3    Harry Potter and the Prisoner of Azkaban (Harr...  302    4.414634   \n",
       "4    The Curious Incident of the Dog in the Night-Time  695    4.081081   \n",
       "..                                                 ...  ...         ...   \n",
       "995    Anne Rice's The Vampire Lestat: A Graphic Novel   83    3.666667   \n",
       "996                            The Natural Way to Draw  808    3.000000   \n",
       "997   The Cat in the Hat and Other Dr. Seuss Favorites  672    5.000000   \n",
       "998                          Essential Tales and Poems  221    4.000000   \n",
       "999  Disney's Beauty and the Beast (A Little Golden...  191    4.000000   \n",
       "\n",
       "     count_reviews  \n",
       "0                7  \n",
       "1                6  \n",
       "2                6  \n",
       "3                6  \n",
       "4                6  \n",
       "..             ...  \n",
       "995              0  \n",
       "996              0  \n",
       "997              0  \n",
       "998              0  \n",
       "999              0  \n",
       "\n",
       "[1000 rows x 4 columns]"
      ]
     },
     "execution_count": 19,
     "metadata": {},
     "output_type": "execute_result"
    }
   ],
   "source": [
    "ratings_rewies = '''\n",
    "SELECT \n",
    "    books.title AS title,\n",
    "    books.book_id AS id,\n",
    "    AVG(ratings.rating) AS avg_rating,\n",
    "    COUNT(DISTINCT reviews.text) AS count_reviews\n",
    "FROM\n",
    "    books\n",
    "FULL OUTER JOIN ratings ON ratings.book_id = books.book_id\n",
    "FULL OUTER JOIN reviews ON reviews.book_id = books.book_id\n",
    "GROUP BY\n",
    "     books.title,\n",
    "     books.book_id\n",
    "order by\n",
    "     count_reviews DESC\n",
    "\n",
    "'''\n",
    "select(ratings_rewies)"
   ]
  },
  {
   "cell_type": "markdown",
   "id": "04e7e8bb",
   "metadata": {},
   "source": [
    "Макчимальное количество обзоров у книги \"Сумерки\" - 7шт, а вот средний рейтиинг всего 3,66"
   ]
  },
  {
   "cell_type": "markdown",
   "id": "79fc867e",
   "metadata": {},
   "source": [
    "### Издательство, которое издало наибольшее число книг "
   ]
  },
  {
   "cell_type": "code",
   "execution_count": 20,
   "id": "5099c1b0",
   "metadata": {},
   "outputs": [
    {
     "data": {
      "text/html": [
       "<div>\n",
       "<style scoped>\n",
       "    .dataframe tbody tr th:only-of-type {\n",
       "        vertical-align: middle;\n",
       "    }\n",
       "\n",
       "    .dataframe tbody tr th {\n",
       "        vertical-align: top;\n",
       "    }\n",
       "\n",
       "    .dataframe thead th {\n",
       "        text-align: right;\n",
       "    }\n",
       "</style>\n",
       "<table border=\"1\" class=\"dataframe\">\n",
       "  <thead>\n",
       "    <tr style=\"text-align: right;\">\n",
       "      <th></th>\n",
       "      <th>name_publisher</th>\n",
       "      <th>count_published_books</th>\n",
       "    </tr>\n",
       "  </thead>\n",
       "  <tbody>\n",
       "    <tr>\n",
       "      <th>0</th>\n",
       "      <td>Penguin Books</td>\n",
       "      <td>42</td>\n",
       "    </tr>\n",
       "    <tr>\n",
       "      <th>1</th>\n",
       "      <td>Vintage</td>\n",
       "      <td>31</td>\n",
       "    </tr>\n",
       "    <tr>\n",
       "      <th>2</th>\n",
       "      <td>Grand Central Publishing</td>\n",
       "      <td>25</td>\n",
       "    </tr>\n",
       "    <tr>\n",
       "      <th>3</th>\n",
       "      <td>Penguin Classics</td>\n",
       "      <td>24</td>\n",
       "    </tr>\n",
       "    <tr>\n",
       "      <th>4</th>\n",
       "      <td>Ballantine Books</td>\n",
       "      <td>19</td>\n",
       "    </tr>\n",
       "    <tr>\n",
       "      <th>...</th>\n",
       "      <td>...</td>\n",
       "      <td>...</td>\n",
       "    </tr>\n",
       "    <tr>\n",
       "      <th>329</th>\n",
       "      <td>Turtleback</td>\n",
       "      <td>1</td>\n",
       "    </tr>\n",
       "    <tr>\n",
       "      <th>330</th>\n",
       "      <td>Atheneum Books for Young Readers: Richard Jack...</td>\n",
       "      <td>1</td>\n",
       "    </tr>\n",
       "    <tr>\n",
       "      <th>331</th>\n",
       "      <td>Penguin Signet</td>\n",
       "      <td>1</td>\n",
       "    </tr>\n",
       "    <tr>\n",
       "      <th>332</th>\n",
       "      <td>Victor Gollancz</td>\n",
       "      <td>1</td>\n",
       "    </tr>\n",
       "    <tr>\n",
       "      <th>333</th>\n",
       "      <td>Harvard Business Review Press</td>\n",
       "      <td>1</td>\n",
       "    </tr>\n",
       "  </tbody>\n",
       "</table>\n",
       "<p>334 rows × 2 columns</p>\n",
       "</div>"
      ],
      "text/plain": [
       "                                        name_publisher  count_published_books\n",
       "0                                        Penguin Books                     42\n",
       "1                                              Vintage                     31\n",
       "2                             Grand Central Publishing                     25\n",
       "3                                     Penguin Classics                     24\n",
       "4                                     Ballantine Books                     19\n",
       "..                                                 ...                    ...\n",
       "329                                         Turtleback                      1\n",
       "330  Atheneum Books for Young Readers: Richard Jack...                      1\n",
       "331                                     Penguin Signet                      1\n",
       "332                                    Victor Gollancz                      1\n",
       "333                      Harvard Business Review Press                      1\n",
       "\n",
       "[334 rows x 2 columns]"
      ]
     },
     "execution_count": 20,
     "metadata": {},
     "output_type": "execute_result"
    }
   ],
   "source": [
    "book_publisher = '''\n",
    "SELECT\n",
    "     publishers.publisher AS name_publisher,\n",
    "     COUNT(books.book_id) AS count_published_books\n",
    "FROM\n",
    "    publishers\n",
    "INNER JOIN books ON books.publisher_id = publishers.publisher_id\n",
    "WHERE\n",
    "    books.num_pages > 50\n",
    "GROUP BY\n",
    "    name_publisher\n",
    "ORDER BY \n",
    "    count_published_books DESC\n",
    "'''\n",
    "select(book_publisher)"
   ]
  },
  {
   "cell_type": "markdown",
   "id": "bfc94ba3",
   "metadata": {},
   "source": [
    "С отрывом идёт издательство \"Penguin Books\" с 42 изданными книгами, толще 50 страниц"
   ]
  },
  {
   "cell_type": "markdown",
   "id": "beeb6f0c",
   "metadata": {},
   "source": [
    "### Автор с самой высокой средней оценкой книг"
   ]
  },
  {
   "cell_type": "code",
   "execution_count": 21,
   "id": "ef4bf9cc",
   "metadata": {},
   "outputs": [
    {
     "data": {
      "text/html": [
       "<div>\n",
       "<style scoped>\n",
       "    .dataframe tbody tr th:only-of-type {\n",
       "        vertical-align: middle;\n",
       "    }\n",
       "\n",
       "    .dataframe tbody tr th {\n",
       "        vertical-align: top;\n",
       "    }\n",
       "\n",
       "    .dataframe thead th {\n",
       "        text-align: right;\n",
       "    }\n",
       "</style>\n",
       "<table border=\"1\" class=\"dataframe\">\n",
       "  <thead>\n",
       "    <tr style=\"text-align: right;\">\n",
       "      <th></th>\n",
       "      <th>author</th>\n",
       "      <th>avg_rating</th>\n",
       "    </tr>\n",
       "  </thead>\n",
       "  <tbody>\n",
       "    <tr>\n",
       "      <th>0</th>\n",
       "      <td>J.K. Rowling/Mary GrandPré</td>\n",
       "      <td>4.283844</td>\n",
       "    </tr>\n",
       "    <tr>\n",
       "      <th>1</th>\n",
       "      <td>Markus Zusak/Cao Xuân Việt Khương</td>\n",
       "      <td>4.264151</td>\n",
       "    </tr>\n",
       "    <tr>\n",
       "      <th>2</th>\n",
       "      <td>J.R.R. Tolkien</td>\n",
       "      <td>4.258446</td>\n",
       "    </tr>\n",
       "    <tr>\n",
       "      <th>3</th>\n",
       "      <td>Louisa May Alcott</td>\n",
       "      <td>4.192308</td>\n",
       "    </tr>\n",
       "    <tr>\n",
       "      <th>4</th>\n",
       "      <td>Rick Riordan</td>\n",
       "      <td>4.080645</td>\n",
       "    </tr>\n",
       "    <tr>\n",
       "      <th>5</th>\n",
       "      <td>William Golding</td>\n",
       "      <td>3.901408</td>\n",
       "    </tr>\n",
       "    <tr>\n",
       "      <th>6</th>\n",
       "      <td>J.D. Salinger</td>\n",
       "      <td>3.825581</td>\n",
       "    </tr>\n",
       "    <tr>\n",
       "      <th>7</th>\n",
       "      <td>Paulo Coelho/Alan R. Clarke/Özdemir İnce</td>\n",
       "      <td>3.789474</td>\n",
       "    </tr>\n",
       "    <tr>\n",
       "      <th>8</th>\n",
       "      <td>William Shakespeare/Paul Werstine/Barbara A. M...</td>\n",
       "      <td>3.787879</td>\n",
       "    </tr>\n",
       "    <tr>\n",
       "      <th>9</th>\n",
       "      <td>Dan Brown</td>\n",
       "      <td>3.754540</td>\n",
       "    </tr>\n",
       "    <tr>\n",
       "      <th>10</th>\n",
       "      <td>Lois Lowry</td>\n",
       "      <td>3.750000</td>\n",
       "    </tr>\n",
       "    <tr>\n",
       "      <th>11</th>\n",
       "      <td>George Orwell/Boris Grabnar/Peter Škerl</td>\n",
       "      <td>3.729730</td>\n",
       "    </tr>\n",
       "    <tr>\n",
       "      <th>12</th>\n",
       "      <td>Stephenie Meyer</td>\n",
       "      <td>3.662500</td>\n",
       "    </tr>\n",
       "    <tr>\n",
       "      <th>13</th>\n",
       "      <td>John Steinbeck</td>\n",
       "      <td>3.622951</td>\n",
       "    </tr>\n",
       "  </tbody>\n",
       "</table>\n",
       "</div>"
      ],
      "text/plain": [
       "                                               author  avg_rating\n",
       "0                          J.K. Rowling/Mary GrandPré    4.283844\n",
       "1                   Markus Zusak/Cao Xuân Việt Khương    4.264151\n",
       "2                                      J.R.R. Tolkien    4.258446\n",
       "3                                   Louisa May Alcott    4.192308\n",
       "4                                        Rick Riordan    4.080645\n",
       "5                                     William Golding    3.901408\n",
       "6                                       J.D. Salinger    3.825581\n",
       "7            Paulo Coelho/Alan R. Clarke/Özdemir İnce    3.789474\n",
       "8   William Shakespeare/Paul Werstine/Barbara A. M...    3.787879\n",
       "9                                           Dan Brown    3.754540\n",
       "10                                         Lois Lowry    3.750000\n",
       "11            George Orwell/Boris Grabnar/Peter Škerl    3.729730\n",
       "12                                    Stephenie Meyer    3.662500\n",
       "13                                     John Steinbeck    3.622951"
      ]
     },
     "execution_count": 21,
     "metadata": {},
     "output_type": "execute_result"
    }
   ],
   "source": [
    "best_author = '''\n",
    "SELECT\n",
    "      SUBQ.author AS author,\n",
    "      AVG(SUBQ.avg_rating) AS avg_rating\n",
    "FROM\n",
    "(SELECT\n",
    "     authors.author AS author,\n",
    "     books.book_id AS id,\n",
    "     AVG(ratings.rating) AS avg_rating,\n",
    "     COUNT(ratings.rating) AS count_rating\n",
    "FROM\n",
    "    authors\n",
    "INNER JOIN books ON books.author_id = authors.author_id\n",
    "INNER JOIN ratings ON ratings.book_id = books.book_id\n",
    "GROUP BY\n",
    "    author,\n",
    "    id\n",
    "    HAVING\n",
    "    COUNT(ratings.rating) >= 50) AS SUBQ\n",
    "GROUP BY\n",
    "    author\n",
    "ORDER BY\n",
    "    avg_rating DESC\n",
    "'''\n",
    "select(best_author)"
   ]
  },
  {
   "cell_type": "markdown",
   "id": "8cd3d2c2",
   "metadata": {},
   "source": [
    "Самым рейтинговым оказался тандем писательницы Роулинг и иллюстратора Гранпрэ книг о Гарри Поттере. Интересно, что автора указывают сразу с иллюстратором..."
   ]
  },
  {
   "cell_type": "markdown",
   "id": "03067ed7",
   "metadata": {},
   "source": [
    "### Среднее количество текстовых обзоров пользователей, которые поставили более чем по 50 оценок"
   ]
  },
  {
   "cell_type": "code",
   "execution_count": 22,
   "id": "5043c3b4",
   "metadata": {},
   "outputs": [
    {
     "data": {
      "text/html": [
       "<div>\n",
       "<style scoped>\n",
       "    .dataframe tbody tr th:only-of-type {\n",
       "        vertical-align: middle;\n",
       "    }\n",
       "\n",
       "    .dataframe tbody tr th {\n",
       "        vertical-align: top;\n",
       "    }\n",
       "\n",
       "    .dataframe thead th {\n",
       "        text-align: right;\n",
       "    }\n",
       "</style>\n",
       "<table border=\"1\" class=\"dataframe\">\n",
       "  <thead>\n",
       "    <tr style=\"text-align: right;\">\n",
       "      <th></th>\n",
       "      <th>round</th>\n",
       "    </tr>\n",
       "  </thead>\n",
       "  <tbody>\n",
       "    <tr>\n",
       "      <th>0</th>\n",
       "      <td>24.0</td>\n",
       "    </tr>\n",
       "  </tbody>\n",
       "</table>\n",
       "</div>"
      ],
      "text/plain": [
       "   round\n",
       "0   24.0"
      ]
     },
     "execution_count": 22,
     "metadata": {},
     "output_type": "execute_result"
    }
   ],
   "source": [
    "avg_text = '''\n",
    "SELECT ROUND(avg(count)) \n",
    "FROM\n",
    "(SELECT\n",
    "    COUNT(text)\n",
    "FROM \n",
    "    reviews\n",
    "FULL OUTER JOIN (SELECT username,\n",
    "                COUNT(rating_id) as count_rate\n",
    "FROM \n",
    "    ratings\n",
    "GROUP BY\n",
    "        username) AS count_rating\n",
    "ON count_rating.username = reviews.username\n",
    "where count_rate > 50\n",
    "GROUP BY reviews.username) as count;                                  \n",
    "'''\n",
    "select(avg_text)"
   ]
  },
  {
   "cell_type": "markdown",
   "id": "bf5d8bab",
   "metadata": {},
   "source": [
    "В среднем люди, поставившие более 50 оценок написали по 24 текстовых обзора на книги."
   ]
  },
  {
   "cell_type": "markdown",
   "id": "d4f3e0ac",
   "metadata": {},
   "source": [
    "## Общий вывод\n",
    "\n",
    "В нашем проекте мы выяснили:\n",
    "1. Сколько книг вышло после 1 января 2000 года - `819штук`; \n",
    "2. Для каждой книги посчитали количество обзоров и среднюю оценку; \n",
    "3. Определили издательство, которое выпустило наибольшее число книг толще 50 страниц — `Penguin Books` с 42 изданными книгами; \n",
    "4. Определили автора с самой высокой средней оценкой книг, учитывая только книги с 50 и более оценками - `J.K. Rowling` \n",
    "5. Узнали среднее количество обзоров от пользователей, которые поставили больше 50 оценок - `24`.\n",
    "\n",
    "Важный момент: Мы можем получать не совсем верные рейтинги, скорее стоит опираться на обзоры и их количество, там где их больше рейтинг будет честнее."
   ]
  }
 ],
 "metadata": {
  "ExecuteTimeLog": [
   {
    "duration": 12202,
    "start_time": "2022-06-26T06:54:00.477Z"
   },
   {
    "duration": 3,
    "start_time": "2022-06-26T06:54:12.681Z"
   },
   {
    "duration": 720,
    "start_time": "2022-06-26T06:54:12.686Z"
   },
   {
    "duration": 23,
    "start_time": "2022-06-26T06:54:13.408Z"
   },
   {
    "duration": 24,
    "start_time": "2022-06-26T06:54:13.440Z"
   },
   {
    "duration": 8,
    "start_time": "2022-06-26T06:54:13.466Z"
   },
   {
    "duration": 9,
    "start_time": "2022-06-26T06:54:13.476Z"
   },
   {
    "duration": 12,
    "start_time": "2022-06-26T06:54:13.487Z"
   },
   {
    "duration": 103,
    "start_time": "2022-06-26T06:54:13.501Z"
   },
   {
    "duration": 117,
    "start_time": "2022-06-26T06:54:13.607Z"
   },
   {
    "duration": 98,
    "start_time": "2022-06-26T06:54:13.726Z"
   },
   {
    "duration": 97,
    "start_time": "2022-06-26T06:54:13.826Z"
   },
   {
    "duration": 93,
    "start_time": "2022-06-26T06:54:13.925Z"
   },
   {
    "duration": 452,
    "start_time": "2022-06-27T15:46:45.896Z"
   },
   {
    "duration": 10229,
    "start_time": "2022-06-27T15:46:46.350Z"
   },
   {
    "duration": 2,
    "start_time": "2022-06-27T15:46:56.581Z"
   },
   {
    "duration": 122,
    "start_time": "2022-06-27T15:46:56.586Z"
   },
   {
    "duration": 4,
    "start_time": "2022-06-27T15:46:56.710Z"
   },
   {
    "duration": 22,
    "start_time": "2022-06-27T15:46:56.716Z"
   },
   {
    "duration": 6,
    "start_time": "2022-06-27T15:46:56.740Z"
   },
   {
    "duration": 14,
    "start_time": "2022-06-27T15:46:56.748Z"
   },
   {
    "duration": 13,
    "start_time": "2022-06-27T15:46:56.763Z"
   },
   {
    "duration": 11,
    "start_time": "2022-06-27T15:46:56.778Z"
   },
   {
    "duration": 19,
    "start_time": "2022-06-27T15:46:56.790Z"
   },
   {
    "duration": 12,
    "start_time": "2022-06-27T15:46:56.811Z"
   },
   {
    "duration": 18,
    "start_time": "2022-06-27T15:46:56.824Z"
   },
   {
    "duration": 21,
    "start_time": "2022-06-27T15:46:56.852Z"
   },
   {
    "duration": 10,
    "start_time": "2022-06-27T15:46:56.875Z"
   },
   {
    "duration": 18,
    "start_time": "2022-06-27T15:46:56.887Z"
   },
   {
    "duration": 4,
    "start_time": "2022-06-27T15:46:56.907Z"
   },
   {
    "duration": 13,
    "start_time": "2022-06-27T15:46:56.913Z"
   },
   {
    "duration": 45,
    "start_time": "2022-06-27T15:46:56.927Z"
   },
   {
    "duration": 13,
    "start_time": "2022-06-27T15:46:56.974Z"
   },
   {
    "duration": 16,
    "start_time": "2022-06-27T15:46:56.988Z"
   },
   {
    "duration": 11,
    "start_time": "2022-06-27T15:46:57.006Z"
   }
  ],
  "kernelspec": {
   "display_name": "Python 3 (ipykernel)",
   "language": "python",
   "name": "python3"
  },
  "language_info": {
   "codemirror_mode": {
    "name": "ipython",
    "version": 3
   },
   "file_extension": ".py",
   "mimetype": "text/x-python",
   "name": "python",
   "nbconvert_exporter": "python",
   "pygments_lexer": "ipython3",
   "version": "3.9.7"
  },
  "toc": {
   "base_numbering": 1,
   "nav_menu": {},
   "number_sections": true,
   "sideBar": true,
   "skip_h1_title": true,
   "title_cell": "Table of Contents",
   "title_sidebar": "Contents",
   "toc_cell": false,
   "toc_position": {},
   "toc_section_display": true,
   "toc_window_display": true
  }
 },
 "nbformat": 4,
 "nbformat_minor": 5
}
